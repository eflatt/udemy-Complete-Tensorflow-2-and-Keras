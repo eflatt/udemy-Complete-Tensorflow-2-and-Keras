{
  "nbformat": 4,
  "nbformat_minor": 0,
  "metadata": {
    "colab": {
      "name": "intro-to-pandas.ipynb",
      "provenance": [],
      "authorship_tag": "ABX9TyM3tZohovcl2GQmpiVm6GdW",
      "include_colab_link": true
    },
    "kernelspec": {
      "name": "python3",
      "display_name": "Python 3"
    },
    "language_info": {
      "name": "python"
    }
  },
  "cells": [
    {
      "cell_type": "markdown",
      "metadata": {
        "id": "view-in-github",
        "colab_type": "text"
      },
      "source": [
        "<a href=\"https://colab.research.google.com/github/eflatt/udemy-Complete-Tensorflow-2-and-Keras/blob/main/intro_to_pandas.ipynb\" target=\"_parent\"><img src=\"https://colab.research.google.com/assets/colab-badge.svg\" alt=\"Open In Colab\"/></a>"
      ]
    },
    {
      "cell_type": "markdown",
      "source": [
        "# **Intro to Pandas:  Initialization and Access**\n",
        "\n",
        "\n"
      ],
      "metadata": {
        "id": "s31zfxiTUEoi"
      }
    },
    {
      "cell_type": "markdown",
      "source": [
        "Pandas derives from Panel-Data and is built on numpy\n",
        "\n",
        "1.  A *Series* is a numpy data array with a named index\n",
        "2.  A *Dataframe* is a data matrix with labeled index and columns\n",
        "\n",
        "Highly recommend to check out:  [this link](https://pandas.pydata.org/pandas-docs/stable)"
      ],
      "metadata": {
        "id": "KzbAL-1TexhH"
      }
    },
    {
      "cell_type": "markdown",
      "source": [
        "**Pandas Series Initialization**"
      ],
      "metadata": {
        "id": "I8brucbIgZ1E"
      }
    },
    {
      "cell_type": "code",
      "source": [
        "# Initialize with the standard imports\n",
        "\n",
        "import numpy as np\n",
        "import pandas as pd"
      ],
      "metadata": {
        "id": "bsxxjmguNmK4"
      },
      "execution_count": null,
      "outputs": []
    },
    {
      "cell_type": "code",
      "source": [
        "# Some standard python objects - lists of strings, of ints, numpy array and\n",
        "# dictionary:\n",
        "\n",
        "labels = ['a', 'b', 'c']\n",
        "\n",
        "mylist = [10, 20, 30]\n",
        "\n",
        "arr = np.array([10, 20, 30])\n",
        "\n",
        "d = {'a':10, 'b':20, 'c':30}"
      ],
      "metadata": {
        "id": "GHGV-13JgrNe"
      },
      "execution_count": null,
      "outputs": []
    },
    {
      "cell_type": "markdown",
      "source": [
        "**Initialize a Pandas Series**\n",
        "Important arguments to pd.Series() are the first two:  the *data* and the *index*"
      ],
      "metadata": {
        "id": "S0mshXXkhPJk"
      }
    },
    {
      "cell_type": "code",
      "source": [
        "# If you don't specify the index, then Pandas will by default\n",
        "# create an index integers >= 0 and associate each with\n",
        "# a value in the data you put into the ctor.\n",
        "print(\"pd.Series(data=mylist): \\n\" + str(pd.Series(data=mylist)) + \"\\n\")"
      ],
      "metadata": {
        "id": "p1qMPeZGhIru"
      },
      "execution_count": null,
      "outputs": []
    },
    {
      "cell_type": "code",
      "source": [
        "# But you can choose to specify an index as the second argument\n",
        "# of the ctor.  In this case we use a python list of strings as\n",
        "# the index:\n",
        "# You also don't need to expressly say data= and index =, you could\n",
        "# Have written pd.Series(data, index), just as well.\n",
        "print(\"pd.Series(data=mylist,index=labels): \\n\" + str(pd.Series(data=mylist,index=labels)) + \"\\n\")"
      ],
      "metadata": {
        "id": "JPH5DCMmhduO"
      },
      "execution_count": null,
      "outputs": []
    },
    {
      "cell_type": "code",
      "source": [
        "# You can also supply the ctor for a pd.Series with a numpy array just as well:\n",
        "print(\"pd.Series(arr,labels): \\n\" + str(pd.Series(arr,labels)) + \"\\n\")"
      ],
      "metadata": {
        "id": "hWmy_OXCihyf"
      },
      "execution_count": null,
      "outputs": []
    },
    {
      "cell_type": "code",
      "source": [
        "# It is handy, but not right now to supply a py dictionary to the pd.Series ctor:\n",
        "print(\"pd.Series(d): \\n\" + str(pd.Series(d)) + \"\\n\")"
      ],
      "metadata": {
        "id": "KHG_uIusjewo"
      },
      "execution_count": null,
      "outputs": []
    },
    {
      "cell_type": "markdown",
      "source": [
        "**Access data from Pandas Series**"
      ],
      "metadata": {
        "id": "I-RmcvF0keXL"
      }
    },
    {
      "cell_type": "code",
      "source": [
        "# Initializations and accesses\n",
        "\n",
        "salesQ1 = pd.Series([250, 450, 200, 150], index=['USA', 'China', 'India', 'Brazil'])\n",
        "print(\"salesQ1 is \\n\" + str(salesQ1) + '\\n')\n",
        "\n",
        "# Note the change in index from salesQ1!\n",
        "salesQ2 = pd.Series([260, 500, 210, 100], index=['USA', 'China', 'India', 'Japan'])\n",
        "print(\"salesQ2 is \\n\" + str(salesQ2) + '\\n')\n",
        "\n",
        "# Access by using the index names (kinda like a py dictionary):\n",
        "print(\"salesQ2['China']=\" + str(salesQ2['China']) + '\\n')\n",
        "\n",
        "# You can also just key off 'position' index (0, 1, 2, ...)\n",
        "# so salesQ2[2] would yield 210 \n",
        "\n",
        "# if you specify an invalid key/index value, you'll get a key error:\n",
        "# salesQ2[10] or salesQ1['Australia'] would give you a key error.\n"
      ],
      "metadata": {
        "id": "ItZTy43Gj2C1"
      },
      "execution_count": null,
      "outputs": []
    },
    {
      "cell_type": "markdown",
      "source": [
        "**Operations between multiple Pandas Series**"
      ],
      "metadata": {
        "id": "q8pyw64_opN1"
      }
    },
    {
      "cell_type": "code",
      "source": [
        "# One can add two series:\n",
        "print(\"salesQ1 + salesQ2= \\n\" + str(salesQ1 + salesQ2) +'\\n')\n",
        "\n",
        "# DEFAULT BEHAVIOR\n",
        "# Important note, when the keys don't match in both summands\n",
        "# (so Brazil and Japan) don't live in both lists being summed\n",
        "# then the default behavior is to give you a NaN (b/c the sum\n",
        "# doesn't exist)\n",
        "#\n",
        "# ALTERNATIVELY, you can say that missing keys have a default\n",
        "# value of 0, but not right now."
      ],
      "metadata": {
        "id": "JrUYOlSyk0wq"
      },
      "execution_count": null,
      "outputs": []
    },
    {
      "cell_type": "markdown",
      "source": [
        "# **Intro to Pandas:  Manipulating Columns and Rows of a DataFrame**\n",
        "\n",
        "\n"
      ],
      "metadata": {
        "id": "ZqXSrCRdoF1X"
      }
    },
    {
      "cell_type": "markdown",
      "source": [
        "**A Pandas dataframe is simply multiple pandas series that share the same index**\n",
        "\n",
        "Think of it like a spreadsheet that you can manipulate w/ Python.\n",
        "\n",
        "Let's create a Pandas Dataframe:"
      ],
      "metadata": {
        "id": "us7qmvsHoF1X"
      }
    },
    {
      "cell_type": "code",
      "source": [
        "import numpy as np\n",
        "import pandas as pd\n",
        "\n",
        "# Column Labels:\n",
        "\n",
        "# In ML the columns are usually features\n",
        "columns = ['W','X','Y','Z']\n",
        "\n",
        "# Row Labels:\n",
        "# In ML the rows are usually samples/points:\n",
        "index = ['A','B','C','D','E']\n",
        "\n",
        "from numpy.random import randint\n",
        "\n",
        "# Create a seed so that our random numbers match the instructors':\n",
        "np.random.seed(42)\n",
        "data = randint(-100, 100, (5,4))\n",
        "\n",
        "# So we now have row labels, column labels, and data in the right dimension\n",
        "# We can now create our dataframe:\n",
        "\n",
        "df = pd.DataFrame(data, index, columns)\n",
        "df\n"
      ],
      "metadata": {
        "id": "ftrr6HtbpGau"
      },
      "execution_count": null,
      "outputs": []
    },
    {
      "cell_type": "markdown",
      "source": [
        "**How do we Access one or more Columns from the DataFrame?**"
      ],
      "metadata": {
        "id": "jj4Rt1oJrQ5U"
      }
    },
    {
      "cell_type": "code",
      "source": [
        "# To grab a single column (or feature):\n",
        "print(\"df['W']: \\n\" + str(df['W']) + \"\\n\")"
      ],
      "metadata": {
        "id": "ab_pQYA0rQmV"
      },
      "execution_count": null,
      "outputs": []
    },
    {
      "cell_type": "code",
      "source": [
        "# To grab multiple columns from a dataframe, you specify a LIST or series\n",
        "# of feature/column names - note the double brackets in the index:\n",
        "print(\"df[['W', 'Z']]: \\n\" + str(df[['W', 'Z']]) + \"\\n\")"
      ],
      "metadata": {
        "id": "EvBLwJKWqGzl"
      },
      "execution_count": null,
      "outputs": []
    },
    {
      "cell_type": "markdown",
      "source": [
        "**Feature Engineering:  How to create and delete new Columns based on existing Columns:**"
      ],
      "metadata": {
        "id": "WqNvuvlis5JA"
      }
    },
    {
      "cell_type": "code",
      "source": [
        "# The way to create new columns is to assign to some new column name:\n",
        "print('Adding new column called new which is sum of Columns W and Y')\n",
        "df['new'] = df['W'] + df['Y']\n",
        "df"
      ],
      "metadata": {
        "id": "jecGDEmMsbst"
      },
      "execution_count": null,
      "outputs": []
    },
    {
      "cell_type": "code",
      "source": [
        "# The way to remove a column from our dataframe, you use df.drop()\n",
        "# and pass in either the name of the column you want gone, or a list\n",
        "# of columns you want gone:\n",
        "\n",
        "# IMPORTANT NOTE:  drop() defaults to axis 0 (which is the rows), so to\n",
        "# drop a feature you must explicitly mention axis 1\n",
        "\n",
        "# REALLY IMPORTANT NOTE:  THIS IS NOT DESTRUCTIVE, if you want the\n",
        "# .drop() to stick, you need to assign it to a variable (in this case\n",
        "# in place we just assign back to df)\n",
        "print('Dropping new from axis 1 (columns):')\n",
        "df = df.drop('new', axis=1)\n",
        "df"
      ],
      "metadata": {
        "id": "cV-iVXoCu9sL"
      },
      "execution_count": null,
      "outputs": []
    },
    {
      "cell_type": "markdown",
      "source": [
        "**Access, Add and Delete operations on Rows**"
      ],
      "metadata": {
        "id": "nUKkit_-xr-E"
      }
    },
    {
      "cell_type": "markdown",
      "source": [
        "*Accessing Rows:*"
      ],
      "metadata": {
        "id": "anRdOudk0fi3"
      }
    },
    {
      "cell_type": "code",
      "source": [
        "# Since it is possible to have a row label the same as a column label, we\n",
        "# can't just naively say df['C']\n",
        "# There are 2 ways to access row 'C':\n",
        "# 1. The first is w/ the loc() method (note that this returns just the panda \n",
        "# numpy series ):\n",
        "\n",
        "df.loc['C']"
      ],
      "metadata": {
        "id": "DKIWyebmxnd4"
      },
      "execution_count": null,
      "outputs": []
    },
    {
      "cell_type": "code",
      "source": [
        "# To get a list of rows:\n",
        "df.loc[['C', 'E']]"
      ],
      "metadata": {
        "id": "PGF1-ZvAyDqU"
      },
      "execution_count": null,
      "outputs": []
    },
    {
      "cell_type": "code",
      "source": [
        "# 2.  The second way to access rows is by specifying the integer index through\n",
        "# using the iloc method on the dataframe thus:\n",
        "df\n",
        "df.iloc[0]"
      ],
      "metadata": {
        "id": "qncKVyn9yZmJ"
      },
      "execution_count": null,
      "outputs": []
    },
    {
      "cell_type": "code",
      "source": [
        "# You can also use all the fancy slicing stuff with iloc:\n",
        "df.iloc[:]"
      ],
      "metadata": {
        "id": "28nPXqjpz6IK"
      },
      "execution_count": null,
      "outputs": []
    },
    {
      "cell_type": "code",
      "source": [
        "# Gets you row 2 through but not including row 4\n",
        "df.iloc[2:4]"
      ],
      "metadata": {
        "id": "MYMaaseE0HGf"
      },
      "execution_count": null,
      "outputs": []
    },
    {
      "cell_type": "markdown",
      "source": [
        "*Deleting Rows*"
      ],
      "metadata": {
        "id": "P9rQMBwC0jrz"
      }
    },
    {
      "cell_type": "code",
      "source": [
        "# Unlike for columns, since the default for the drop access is 0 (rows)\n",
        "# you can naively just tell it what (or what list) to drop.\n",
        "\n",
        "# As before, the drop operation is NOT in-place destructive, you'd\n",
        "# need to reassign it back to df to make the drop permanent.\n",
        "df.drop(\"C\")"
      ],
      "metadata": {
        "id": "AkWC5DEI0Kwn"
      },
      "execution_count": null,
      "outputs": []
    },
    {
      "cell_type": "markdown",
      "source": [
        "*Selecting a subset of a row*"
      ],
      "metadata": {
        "id": "6KQgW0ts1EcA"
      }
    },
    {
      "cell_type": "code",
      "source": [
        "# The first argument is either the row name or a *list* of row names\n",
        "# The second argument is either the column name or a *list* of row names\n",
        "df"
      ],
      "metadata": {
        "id": "y__yXh4o01Rm"
      },
      "execution_count": null,
      "outputs": []
    },
    {
      "cell_type": "code",
      "source": [
        "# First argument selects row or rows\n",
        "# Second argument selects column or columns\n",
        "# Default assumption is that we want it all.\n",
        "df.loc[[\"B\",\"C\"], [\"Y\",\"Z\"]]"
      ],
      "metadata": {
        "id": "Jo70ZEeE1dql"
      },
      "execution_count": null,
      "outputs": []
    },
    {
      "cell_type": "markdown",
      "source": [
        "**Conditional Selection from a DataFrame**:  Where we access only those data that meet some condition."
      ],
      "metadata": {
        "id": "mzsrSvm-4JDt"
      }
    },
    {
      "cell_type": "code",
      "source": [
        "# Here's what we're working with\n",
        "df"
      ],
      "metadata": {
        "id": "EcL0GbZw1mxr"
      },
      "execution_count": null,
      "outputs": []
    },
    {
      "cell_type": "code",
      "source": [
        "# As with numpy series, a conditional of a dataframe\n",
        "# provides a boolean 'mask' where 'True means that the\n",
        "# condition was met, False otherwise'\n",
        "df > 0"
      ],
      "metadata": {
        "id": "0l33V1uk4XBD"
      },
      "execution_count": null,
      "outputs": []
    },
    {
      "cell_type": "code",
      "source": [
        "# However, unless we specify otherwise, pandas leaves NaNs\n",
        "# where the condition is false when applied as a filtering condition\n",
        "# to the frame thus:\n",
        "df[df>0]"
      ],
      "metadata": {
        "id": "hBJQqDcZ4aK3"
      },
      "execution_count": null,
      "outputs": []
    },
    {
      "cell_type": "code",
      "source": [
        "# If I want to apply a conditional to one column, I do so thus:\n",
        "df['X'] > 0"
      ],
      "metadata": {
        "id": "awEAw1Xe4gaO"
      },
      "execution_count": null,
      "outputs": []
    },
    {
      "cell_type": "code",
      "source": [
        "# If we 'broadcast' the condition df['X']>0 across the entire\n",
        "# DataFrame, then it only extracts those rowswhere that condition is met\n",
        "# (that is, where the X column value is > 0)\n",
        "\n",
        "# Filtering on a conditional selection ONLY returns the true rows\n",
        "df[df['X']>0]"
      ],
      "metadata": {
        "id": "iaZnEqb25SaX"
      },
      "execution_count": null,
      "outputs": []
    },
    {
      "cell_type": "markdown",
      "source": [
        "*Conditional Selections applied as filters, themselves return a DataFrame, so you can do standard DataFrame Operations thereto.*"
      ],
      "metadata": {
        "id": "fxpTPWQ46WJM"
      }
    },
    {
      "cell_type": "code",
      "source": [
        "# Since df[df['X']] is itself a dataframe, we can select off of it:\n",
        "df[df['X']>0]['W']"
      ],
      "metadata": {
        "id": "lGyDtfR_5XEp"
      },
      "execution_count": null,
      "outputs": []
    },
    {
      "cell_type": "markdown",
      "source": [
        "**How to do Logical/Boolean connectors and separate conditions**\n",
        "1.  Remember to wrap EACH condition with parens\n",
        "2.  And is a single ampersand:  &\n",
        "3.  Or is a single bar: |\n"
      ],
      "metadata": {
        "id": "bKOJ4voU68AN"
      }
    },
    {
      "cell_type": "code",
      "source": [
        "# Here's an example of a logically combined set of conditions (for AND):\n",
        "(df[\"W\"]>0) & (df[\"Y\"]>1)"
      ],
      "metadata": {
        "id": "lDkGxrkR6LKN"
      },
      "execution_count": null,
      "outputs": []
    },
    {
      "cell_type": "code",
      "source": [
        "df"
      ],
      "metadata": {
        "id": "DQdsWteS7YP1"
      },
      "execution_count": null,
      "outputs": []
    },
    {
      "cell_type": "markdown",
      "source": [
        "**How to set different Columns to be your Index, and not just\n",
        "what got set at ctor time for the DataFrame**"
      ],
      "metadata": {
        "id": "0mNY3TC_70cS"
      }
    },
    {
      "cell_type": "code",
      "source": [
        "df"
      ],
      "metadata": {
        "id": "VDxRFHLW7raz"
      },
      "execution_count": null,
      "outputs": []
    },
    {
      "cell_type": "markdown",
      "source": [
        "**If you want to make your ctor' initiated column into just another\n",
        "column, you can reset the index to the 'positional' 0-n integer index thus:**\n",
        "\n"
      ],
      "metadata": {
        "id": "zPB_b9Yf8JZK"
      }
    },
    {
      "cell_type": "code",
      "source": [
        "# Non-destructive in place, you can set A-F as a new column called index thus:\n",
        "df.reset_index()"
      ],
      "metadata": {
        "id": "VSAUE0XN78XN"
      },
      "execution_count": null,
      "outputs": []
    },
    {
      "cell_type": "markdown",
      "source": [
        "*Dynamically creating a new index column with df.set_index()*"
      ],
      "metadata": {
        "id": "88JUz7Pv8eCj"
      }
    },
    {
      "cell_type": "code",
      "source": [
        "new_ind = ['CA','NY','WY','OR',\"CO\"]\n",
        "# Note that this addition of a column is destructive\n",
        "df['States'] = new_ind\n",
        "\n",
        "# Now that you've added the column, go ahead and set it as the\n",
        "# index like this, note that this is NOT DESTRUCTIVE, so we\n",
        "# need to reassign it back to df to make it so (the line below\n",
        "# therefore IS destructive):\n",
        "df = df.set_index(\"States\")\n",
        "df"
      ],
      "metadata": {
        "id": "HJjeQmtS8Fb0"
      },
      "execution_count": null,
      "outputs": []
    },
    {
      "cell_type": "code",
      "source": [
        "# ***Important note - After setting the index, the the index is NOT\n",
        "# A column, it is removed as a column from the dataframe, \n",
        "# Observe: 'States' is not included when we ask what the columns are:***\n",
        "df.columns"
      ],
      "metadata": {
        "id": "4PI0HPvd8_gd"
      },
      "execution_count": null,
      "outputs": []
    },
    {
      "cell_type": "markdown",
      "source": [
        "**Some handy Dataframe summaries:**"
      ],
      "metadata": {
        "id": "uMdkYJ60-eJf"
      }
    },
    {
      "cell_type": "markdown",
      "source": [
        "*df.describe(), df.info(), df.dtypes*"
      ],
      "metadata": {
        "id": "NMe2i44v-yWj"
      }
    },
    {
      "cell_type": "code",
      "source": [
        "df.describe()"
      ],
      "metadata": {
        "id": "52dJjxSc-RMJ"
      },
      "execution_count": null,
      "outputs": []
    },
    {
      "cell_type": "code",
      "source": [
        "df.info()"
      ],
      "metadata": {
        "id": "ah-f6lRf-ilL"
      },
      "execution_count": null,
      "outputs": []
    },
    {
      "cell_type": "code",
      "source": [
        "df.dtypes"
      ],
      "metadata": {
        "id": "sh0wFBS8-sti"
      },
      "execution_count": null,
      "outputs": []
    },
    {
      "cell_type": "markdown",
      "source": [
        "# **Intro to Pandas:  Dealing with Missing Data**\n",
        "\n",
        "\n"
      ],
      "metadata": {
        "id": "VNA7DshLC3jw"
      }
    },
    {
      "cell_type": "markdown",
      "source": [
        "**Real world Datasets often have missing data, you have three choices:**\n",
        "1.  Leave it as missing\n",
        "*  Depending on the type of data, this is a reasonable choice\n",
        "*  You could simply treat NaN as another category\n",
        "\n",
        "2.  Remove it\n",
        "* Depends on how much is missing - if too much is missing to make a reasonable guess, then it makes sense to drop it\n",
        "* If we're only missing a small percentage, it makes sense to remove a few rows (datapoints) from the dataset\n",
        "\n",
        "3.  Fill it in w/ a substitute\n",
        "* If a non-trivial percentage is missing and the data rows are particularly important\n",
        "* Fill in w/ mode, mean, median\n",
        "* or base it off of another feature column (feature engineering)\n",
        "\n",
        "**Ultimately you have to use common sense and remember the goals you have to see which stratgegy makes the most sense.**\n",
        "\n",
        "```\n",
        "# This is formatted as code\n",
        "```\n",
        "\n",
        "\n"
      ],
      "metadata": {
        "id": "atm6Y2W7C3j4"
      }
    },
    {
      "cell_type": "code",
      "source": [
        "# Initialize data to play with\n",
        "\n",
        "import numpy as np\n",
        "import pandas as pd\n",
        "\n",
        "# Initialize the dataframe with a python dictionary\n",
        "df = pd.DataFrame({'A':[1,2,np.nan,4],'B':[5,np.nan,np.nan,8],'C':[10,20,30,40]})\n",
        "df\n"
      ],
      "metadata": {
        "id": "6AYvu5NbxQhE"
      },
      "execution_count": null,
      "outputs": []
    },
    {
      "cell_type": "markdown",
      "source": [
        "**How would we go about dropping/removing missing data?** \n",
        "Use the dropna() method on the dataframe."
      ],
      "metadata": {
        "id": "8RWOLq9qySml"
      }
    },
    {
      "cell_type": "code",
      "source": [
        "# df.dropna() default:\n",
        "# Only keep the rows where all data is present (no missing values)\n",
        "df.dropna()"
      ],
      "metadata": {
        "id": "PkkS-e-8x1sd"
      },
      "execution_count": null,
      "outputs": []
    },
    {
      "cell_type": "code",
      "source": [
        "# df.dropna():  axis=0 means 'the index', and 1 means the (data) columns\n",
        "# Note that by default it only keeps the columns where no data is missing.\n",
        "df.dropna(axis=1)"
      ],
      "metadata": {
        "id": "DZABb4G2ypcJ"
      },
      "execution_count": null,
      "outputs": []
    },
    {
      "cell_type": "code",
      "source": [
        "# the thresh parameter means - keep the column if it has *at least*\n",
        "# thresh *non-empty* values\n",
        "# So, setting thresh=3 drops column B which only has 2 non-empty values\n",
        "df.dropna(axis=1, thresh=3)"
      ],
      "metadata": {
        "id": "TbKO8yeWy2Rh"
      },
      "execution_count": null,
      "outputs": []
    },
    {
      "cell_type": "markdown",
      "source": [
        "**How would we go about updating/replacing missing data?** \n",
        "Use the fillna() method on the dataframe."
      ],
      "metadata": {
        "id": "iotjiEcC07g2"
      }
    },
    {
      "cell_type": "code",
      "source": [
        "# Note that before calling fillna that the values\n",
        "# are all integers, and here I'm sticking a string in.\n",
        "# Pandas doesn't complain\n",
        "df.fillna(value='FILL VALUE')\n",
        "df.dtypes"
      ],
      "metadata": {
        "id": "CzSWtx9l0zWH"
      },
      "execution_count": null,
      "outputs": []
    },
    {
      "cell_type": "code",
      "source": [
        "# Replace NaN with 0 - note that it recasts the 0 to a float64 since that's\n",
        "# The type of the column\n",
        "df.fillna(value=0)"
      ],
      "metadata": {
        "id": "BLX40h5PzQUP"
      },
      "execution_count": null,
      "outputs": []
    },
    {
      "cell_type": "code",
      "source": [
        "# To Fill in all missing values throughout the entire dataframe with\n",
        "# The mean of the column/feature, you write:\n",
        "df.fillna(df.mean())"
      ],
      "metadata": {
        "id": "3iJd5g4x3R4O"
      },
      "execution_count": null,
      "outputs": []
    },
    {
      "cell_type": "code",
      "source": [
        "# You can focus where you replace missing values to a particular column:\n",
        "# NOTE: that this is not in-place destructive\n",
        "df['A'].fillna(value=0)\n",
        "\n",
        "# To make this 'permanent', you'd assign the 'fixed' column back to the original\n",
        "# dataframe thus:\n",
        "df['A']=df['A'].fillna(value=0)\n"
      ],
      "metadata": {
        "id": "QTNP5s521dXg"
      },
      "execution_count": null,
      "outputs": []
    },
    {
      "cell_type": "code",
      "source": [
        "# Let's say that we want to fill in column B with the\n",
        "# average of the non-empty values in B:\n",
        "df['B']=df['B'].fillna(value=df['B'].mean())"
      ],
      "metadata": {
        "id": "Tj-Qe26q2IPS"
      },
      "execution_count": null,
      "outputs": []
    },
    {
      "cell_type": "markdown",
      "source": [
        "# **Intro to Pandas:  GroupBy Operations**\n",
        "\n",
        "\n"
      ],
      "metadata": {
        "id": "RrFxx0kp4V58"
      }
    },
    {
      "cell_type": "markdown",
      "source": [
        "**Often we want to explore how values are distributed or aggregated across groups.**\n",
        "* This is similar to how GROUPBY works in SQL\n",
        "\n",
        "**Assume you have a column that is categorical, and a separate column that is continuous (ints, reals, etc).**\n",
        "  \n",
        "**This is what a GROUPBY Does (also often referred to as Split-Apply-Combine):**\n",
        "* Step One:  Select the column that is categorical\n",
        "* Step Two:  Split up into smaller frames by category\n",
        "* Step Three:  Apply some **aggregation function** on each smaller per-category frame (like a sum)\n",
        "* Step Four:  Recombine into a single dataframe where the categorical column remains (and dups removed) and the applied function is associated with that categorical column in a separate column\n",
        "\n",
        "**The aggregation method takes multiple values and combines them into a single value**\n",
        "* Like mean, sum, std, count, max, min, etc..."
      ],
      "metadata": {
        "id": "S2aK_v5K4V58"
      }
    },
    {
      "cell_type": "code",
      "source": [
        "# Initialize data to play with\n",
        "import pandas as pd\n",
        "\n",
        "# Load from Google Drive thus:\n",
        "from google.colab import drive\n",
        "drive.mount('/content/drive', force_remount=True)\n",
        "path = '/content/drive/My Drive/TensorFlowTutorialData/Universities.csv'\n",
        "\n",
        "# Load the csv file:\n",
        "df = pd.read_csv(path)\n"
      ],
      "metadata": {
        "id": "ofu_Vpa14V59"
      },
      "execution_count": null,
      "outputs": []
    },
    {
      "cell_type": "markdown",
      "source": [
        "**df.head() let's you look at the first few rows of a dataframe.**"
      ],
      "metadata": {
        "id": "0APWnh75G0w9"
      }
    },
    {
      "cell_type": "code",
      "source": [
        "# To show first 5 rows (by default)\n",
        "df.head()\n",
        "# Note how Year is ALSO categorical (even though it's not a string)\n"
      ],
      "metadata": {
        "id": "OSI297YvFplk"
      },
      "execution_count": null,
      "outputs": []
    },
    {
      "cell_type": "markdown",
      "source": [
        "**Let's play a little bit with groupby() on df**"
      ],
      "metadata": {
        "id": "Kz619fK7I1HO"
      }
    },
    {
      "cell_type": "code",
      "source": [
        "# Let's say that we want to see the number of completions, per year across \n",
        "# all universities (so the category is the year):\n",
        "\n",
        "# Without some aggregator function you just get the object back\n",
        "df.groupby('Year')"
      ],
      "metadata": {
        "id": "gyvYY8iPGV8W"
      },
      "execution_count": null,
      "outputs": []
    },
    {
      "cell_type": "code",
      "source": [
        "# But if you specify an aggregator function (like a mean or sum), you get\n",
        "# The values.\n",
        "\n",
        "# NOTE HOW IT DOES NOT SHOW Sedctor, University, etc... it's b/c the aggregator\n",
        "# function (mean) doesn't work on string-based columns, so it makes no sense.\n",
        "\n",
        "df.groupby('Year').mean()\n",
        "\n",
        "# Note too that the 'Year' column returned by this groupby is the *index* and\n",
        "# not a data column"
      ],
      "metadata": {
        "id": "TDtdKGiOHTL4"
      },
      "execution_count": null,
      "outputs": []
    },
    {
      "cell_type": "code",
      "source": [
        "# You can play with sorting thus:\n",
        "df.groupby('Year').sum().sort_index(ascending=False)"
      ],
      "metadata": {
        "id": "IHKVewlCHYA3"
      },
      "execution_count": null,
      "outputs": []
    },
    {
      "cell_type": "markdown",
      "source": [
        "**You can groupby one index and then groupby again for a subindex.**\n",
        "* Note that you are left w/ only one column('completions') and 2\n",
        "indices ('year' and 'sector')"
      ],
      "metadata": {
        "id": "-7jNfg8HKl3D"
      }
    },
    {
      "cell_type": "code",
      "source": [
        "df.groupby(['Year','Sector']).sum().sort_index(ascending=False)"
      ],
      "metadata": {
        "id": "gxy_KtgKKUQg"
      },
      "execution_count": null,
      "outputs": []
    },
    {
      "cell_type": "markdown",
      "source": [
        "**Another handy technique is to groupby and describe each category**"
      ],
      "metadata": {
        "id": "4l9AUwFWi1Hz"
      }
    },
    {
      "cell_type": "code",
      "source": [
        "# Note that transpose() flips the index (usually categorical data, in this case\n",
        "# years) be columns.\n",
        "df.groupby('Year').describe().transpose()"
      ],
      "metadata": {
        "colab": {
          "base_uri": "https://localhost:8080/",
          "height": 300
        },
        "id": "SWEsAqh9K1AM",
        "outputId": "cdd8d34b-6a3c-46cc-d150-a1eb62139bf8"
      },
      "execution_count": 15,
      "outputs": [
        {
          "output_type": "execute_result",
          "data": {
            "text/html": [
              "\n",
              "  <div id=\"df-114f328a-eba4-4f03-a2ba-d6beb644939e\">\n",
              "    <div class=\"colab-df-container\">\n",
              "      <div>\n",
              "<style scoped>\n",
              "    .dataframe tbody tr th:only-of-type {\n",
              "        vertical-align: middle;\n",
              "    }\n",
              "\n",
              "    .dataframe tbody tr th {\n",
              "        vertical-align: top;\n",
              "    }\n",
              "\n",
              "    .dataframe thead th {\n",
              "        text-align: right;\n",
              "    }\n",
              "</style>\n",
              "<table border=\"1\" class=\"dataframe\">\n",
              "  <thead>\n",
              "    <tr style=\"text-align: right;\">\n",
              "      <th></th>\n",
              "      <th>Year</th>\n",
              "      <th>2012</th>\n",
              "      <th>2013</th>\n",
              "      <th>2014</th>\n",
              "      <th>2015</th>\n",
              "      <th>2016</th>\n",
              "    </tr>\n",
              "  </thead>\n",
              "  <tbody>\n",
              "    <tr>\n",
              "      <th rowspan=\"8\" valign=\"top\">Completions</th>\n",
              "      <th>count</th>\n",
              "      <td>38.000000</td>\n",
              "      <td>40.000000</td>\n",
              "      <td>42.000000</td>\n",
              "      <td>44.000000</td>\n",
              "      <td>43.000000</td>\n",
              "    </tr>\n",
              "    <tr>\n",
              "      <th>mean</th>\n",
              "      <td>535.078947</td>\n",
              "      <td>526.150000</td>\n",
              "      <td>588.809524</td>\n",
              "      <td>597.250000</td>\n",
              "      <td>609.860465</td>\n",
              "    </tr>\n",
              "    <tr>\n",
              "      <th>std</th>\n",
              "      <td>1036.433239</td>\n",
              "      <td>1040.474782</td>\n",
              "      <td>1150.355857</td>\n",
              "      <td>1183.371791</td>\n",
              "      <td>1235.952796</td>\n",
              "    </tr>\n",
              "    <tr>\n",
              "      <th>min</th>\n",
              "      <td>13.000000</td>\n",
              "      <td>0.000000</td>\n",
              "      <td>0.000000</td>\n",
              "      <td>0.000000</td>\n",
              "      <td>0.000000</td>\n",
              "    </tr>\n",
              "    <tr>\n",
              "      <th>25%</th>\n",
              "      <td>114.250000</td>\n",
              "      <td>98.500000</td>\n",
              "      <td>104.500000</td>\n",
              "      <td>87.750000</td>\n",
              "      <td>90.000000</td>\n",
              "    </tr>\n",
              "    <tr>\n",
              "      <th>50%</th>\n",
              "      <td>229.500000</td>\n",
              "      <td>189.000000</td>\n",
              "      <td>203.500000</td>\n",
              "      <td>191.000000</td>\n",
              "      <td>208.000000</td>\n",
              "    </tr>\n",
              "    <tr>\n",
              "      <th>75%</th>\n",
              "      <td>420.500000</td>\n",
              "      <td>413.000000</td>\n",
              "      <td>371.750000</td>\n",
              "      <td>405.750000</td>\n",
              "      <td>414.000000</td>\n",
              "    </tr>\n",
              "    <tr>\n",
              "      <th>max</th>\n",
              "      <td>5388.000000</td>\n",
              "      <td>5278.000000</td>\n",
              "      <td>5093.000000</td>\n",
              "      <td>5335.000000</td>\n",
              "      <td>5367.000000</td>\n",
              "    </tr>\n",
              "  </tbody>\n",
              "</table>\n",
              "</div>\n",
              "      <button class=\"colab-df-convert\" onclick=\"convertToInteractive('df-114f328a-eba4-4f03-a2ba-d6beb644939e')\"\n",
              "              title=\"Convert this dataframe to an interactive table.\"\n",
              "              style=\"display:none;\">\n",
              "        \n",
              "  <svg xmlns=\"http://www.w3.org/2000/svg\" height=\"24px\"viewBox=\"0 0 24 24\"\n",
              "       width=\"24px\">\n",
              "    <path d=\"M0 0h24v24H0V0z\" fill=\"none\"/>\n",
              "    <path d=\"M18.56 5.44l.94 2.06.94-2.06 2.06-.94-2.06-.94-.94-2.06-.94 2.06-2.06.94zm-11 1L8.5 8.5l.94-2.06 2.06-.94-2.06-.94L8.5 2.5l-.94 2.06-2.06.94zm10 10l.94 2.06.94-2.06 2.06-.94-2.06-.94-.94-2.06-.94 2.06-2.06.94z\"/><path d=\"M17.41 7.96l-1.37-1.37c-.4-.4-.92-.59-1.43-.59-.52 0-1.04.2-1.43.59L10.3 9.45l-7.72 7.72c-.78.78-.78 2.05 0 2.83L4 21.41c.39.39.9.59 1.41.59.51 0 1.02-.2 1.41-.59l7.78-7.78 2.81-2.81c.8-.78.8-2.07 0-2.86zM5.41 20L4 18.59l7.72-7.72 1.47 1.35L5.41 20z\"/>\n",
              "  </svg>\n",
              "      </button>\n",
              "      \n",
              "  <style>\n",
              "    .colab-df-container {\n",
              "      display:flex;\n",
              "      flex-wrap:wrap;\n",
              "      gap: 12px;\n",
              "    }\n",
              "\n",
              "    .colab-df-convert {\n",
              "      background-color: #E8F0FE;\n",
              "      border: none;\n",
              "      border-radius: 50%;\n",
              "      cursor: pointer;\n",
              "      display: none;\n",
              "      fill: #1967D2;\n",
              "      height: 32px;\n",
              "      padding: 0 0 0 0;\n",
              "      width: 32px;\n",
              "    }\n",
              "\n",
              "    .colab-df-convert:hover {\n",
              "      background-color: #E2EBFA;\n",
              "      box-shadow: 0px 1px 2px rgba(60, 64, 67, 0.3), 0px 1px 3px 1px rgba(60, 64, 67, 0.15);\n",
              "      fill: #174EA6;\n",
              "    }\n",
              "\n",
              "    [theme=dark] .colab-df-convert {\n",
              "      background-color: #3B4455;\n",
              "      fill: #D2E3FC;\n",
              "    }\n",
              "\n",
              "    [theme=dark] .colab-df-convert:hover {\n",
              "      background-color: #434B5C;\n",
              "      box-shadow: 0px 1px 3px 1px rgba(0, 0, 0, 0.15);\n",
              "      filter: drop-shadow(0px 1px 2px rgba(0, 0, 0, 0.3));\n",
              "      fill: #FFFFFF;\n",
              "    }\n",
              "  </style>\n",
              "\n",
              "      <script>\n",
              "        const buttonEl =\n",
              "          document.querySelector('#df-114f328a-eba4-4f03-a2ba-d6beb644939e button.colab-df-convert');\n",
              "        buttonEl.style.display =\n",
              "          google.colab.kernel.accessAllowed ? 'block' : 'none';\n",
              "\n",
              "        async function convertToInteractive(key) {\n",
              "          const element = document.querySelector('#df-114f328a-eba4-4f03-a2ba-d6beb644939e');\n",
              "          const dataTable =\n",
              "            await google.colab.kernel.invokeFunction('convertToInteractive',\n",
              "                                                     [key], {});\n",
              "          if (!dataTable) return;\n",
              "\n",
              "          const docLinkHtml = 'Like what you see? Visit the ' +\n",
              "            '<a target=\"_blank\" href=https://colab.research.google.com/notebooks/data_table.ipynb>data table notebook</a>'\n",
              "            + ' to learn more about interactive tables.';\n",
              "          element.innerHTML = '';\n",
              "          dataTable['output_type'] = 'display_data';\n",
              "          await google.colab.output.renderOutput(dataTable, element);\n",
              "          const docLink = document.createElement('div');\n",
              "          docLink.innerHTML = docLinkHtml;\n",
              "          element.appendChild(docLink);\n",
              "        }\n",
              "      </script>\n",
              "    </div>\n",
              "  </div>\n",
              "  "
            ],
            "text/plain": [
              "Year                      2012         2013  ...         2015         2016\n",
              "Completions count    38.000000    40.000000  ...    44.000000    43.000000\n",
              "            mean    535.078947   526.150000  ...   597.250000   609.860465\n",
              "            std    1036.433239  1040.474782  ...  1183.371791  1235.952796\n",
              "            min      13.000000     0.000000  ...     0.000000     0.000000\n",
              "            25%     114.250000    98.500000  ...    87.750000    90.000000\n",
              "            50%     229.500000   189.000000  ...   191.000000   208.000000\n",
              "            75%     420.500000   413.000000  ...   405.750000   414.000000\n",
              "            max    5388.000000  5278.000000  ...  5335.000000  5367.000000\n",
              "\n",
              "[8 rows x 5 columns]"
            ]
          },
          "metadata": {},
          "execution_count": 15
        }
      ]
    },
    {
      "cell_type": "code",
      "source": [
        "df.groupby('Geography').describe()"
      ],
      "metadata": {
        "colab": {
          "base_uri": "https://localhost:8080/",
          "height": 143
        },
        "id": "cDXywqLrjlZ6",
        "outputId": "ff5872b8-03c0-42e0-fd57-b2f9f76f1a5b"
      },
      "execution_count": 17,
      "outputs": [
        {
          "output_type": "execute_result",
          "data": {
            "text/html": [
              "\n",
              "  <div id=\"df-7843e904-c78c-4968-8642-7f9d24061595\">\n",
              "    <div class=\"colab-df-container\">\n",
              "      <div>\n",
              "<style scoped>\n",
              "    .dataframe tbody tr th:only-of-type {\n",
              "        vertical-align: middle;\n",
              "    }\n",
              "\n",
              "    .dataframe tbody tr th {\n",
              "        vertical-align: top;\n",
              "    }\n",
              "\n",
              "    .dataframe thead tr th {\n",
              "        text-align: left;\n",
              "    }\n",
              "\n",
              "    .dataframe thead tr:last-of-type th {\n",
              "        text-align: right;\n",
              "    }\n",
              "</style>\n",
              "<table border=\"1\" class=\"dataframe\">\n",
              "  <thead>\n",
              "    <tr>\n",
              "      <th></th>\n",
              "      <th colspan=\"8\" halign=\"left\">Year</th>\n",
              "      <th colspan=\"8\" halign=\"left\">Completions</th>\n",
              "    </tr>\n",
              "    <tr>\n",
              "      <th></th>\n",
              "      <th>count</th>\n",
              "      <th>mean</th>\n",
              "      <th>std</th>\n",
              "      <th>min</th>\n",
              "      <th>25%</th>\n",
              "      <th>50%</th>\n",
              "      <th>75%</th>\n",
              "      <th>max</th>\n",
              "      <th>count</th>\n",
              "      <th>mean</th>\n",
              "      <th>std</th>\n",
              "      <th>min</th>\n",
              "      <th>25%</th>\n",
              "      <th>50%</th>\n",
              "      <th>75%</th>\n",
              "      <th>max</th>\n",
              "    </tr>\n",
              "    <tr>\n",
              "      <th>Geography</th>\n",
              "      <th></th>\n",
              "      <th></th>\n",
              "      <th></th>\n",
              "      <th></th>\n",
              "      <th></th>\n",
              "      <th></th>\n",
              "      <th></th>\n",
              "      <th></th>\n",
              "      <th></th>\n",
              "      <th></th>\n",
              "      <th></th>\n",
              "      <th></th>\n",
              "      <th></th>\n",
              "      <th></th>\n",
              "      <th></th>\n",
              "      <th></th>\n",
              "    </tr>\n",
              "  </thead>\n",
              "  <tbody>\n",
              "    <tr>\n",
              "      <th>Nevada</th>\n",
              "      <td>207.0</td>\n",
              "      <td>2014.067633</td>\n",
              "      <td>1.405698</td>\n",
              "      <td>2012.0</td>\n",
              "      <td>2013.0</td>\n",
              "      <td>2014.0</td>\n",
              "      <td>2015.0</td>\n",
              "      <td>2016.0</td>\n",
              "      <td>207.0</td>\n",
              "      <td>573.004831</td>\n",
              "      <td>1125.247729</td>\n",
              "      <td>0.0</td>\n",
              "      <td>98.0</td>\n",
              "      <td>200.0</td>\n",
              "      <td>414.0</td>\n",
              "      <td>5388.0</td>\n",
              "    </tr>\n",
              "  </tbody>\n",
              "</table>\n",
              "</div>\n",
              "      <button class=\"colab-df-convert\" onclick=\"convertToInteractive('df-7843e904-c78c-4968-8642-7f9d24061595')\"\n",
              "              title=\"Convert this dataframe to an interactive table.\"\n",
              "              style=\"display:none;\">\n",
              "        \n",
              "  <svg xmlns=\"http://www.w3.org/2000/svg\" height=\"24px\"viewBox=\"0 0 24 24\"\n",
              "       width=\"24px\">\n",
              "    <path d=\"M0 0h24v24H0V0z\" fill=\"none\"/>\n",
              "    <path d=\"M18.56 5.44l.94 2.06.94-2.06 2.06-.94-2.06-.94-.94-2.06-.94 2.06-2.06.94zm-11 1L8.5 8.5l.94-2.06 2.06-.94-2.06-.94L8.5 2.5l-.94 2.06-2.06.94zm10 10l.94 2.06.94-2.06 2.06-.94-2.06-.94-.94-2.06-.94 2.06-2.06.94z\"/><path d=\"M17.41 7.96l-1.37-1.37c-.4-.4-.92-.59-1.43-.59-.52 0-1.04.2-1.43.59L10.3 9.45l-7.72 7.72c-.78.78-.78 2.05 0 2.83L4 21.41c.39.39.9.59 1.41.59.51 0 1.02-.2 1.41-.59l7.78-7.78 2.81-2.81c.8-.78.8-2.07 0-2.86zM5.41 20L4 18.59l7.72-7.72 1.47 1.35L5.41 20z\"/>\n",
              "  </svg>\n",
              "      </button>\n",
              "      \n",
              "  <style>\n",
              "    .colab-df-container {\n",
              "      display:flex;\n",
              "      flex-wrap:wrap;\n",
              "      gap: 12px;\n",
              "    }\n",
              "\n",
              "    .colab-df-convert {\n",
              "      background-color: #E8F0FE;\n",
              "      border: none;\n",
              "      border-radius: 50%;\n",
              "      cursor: pointer;\n",
              "      display: none;\n",
              "      fill: #1967D2;\n",
              "      height: 32px;\n",
              "      padding: 0 0 0 0;\n",
              "      width: 32px;\n",
              "    }\n",
              "\n",
              "    .colab-df-convert:hover {\n",
              "      background-color: #E2EBFA;\n",
              "      box-shadow: 0px 1px 2px rgba(60, 64, 67, 0.3), 0px 1px 3px 1px rgba(60, 64, 67, 0.15);\n",
              "      fill: #174EA6;\n",
              "    }\n",
              "\n",
              "    [theme=dark] .colab-df-convert {\n",
              "      background-color: #3B4455;\n",
              "      fill: #D2E3FC;\n",
              "    }\n",
              "\n",
              "    [theme=dark] .colab-df-convert:hover {\n",
              "      background-color: #434B5C;\n",
              "      box-shadow: 0px 1px 3px 1px rgba(0, 0, 0, 0.15);\n",
              "      filter: drop-shadow(0px 1px 2px rgba(0, 0, 0, 0.3));\n",
              "      fill: #FFFFFF;\n",
              "    }\n",
              "  </style>\n",
              "\n",
              "      <script>\n",
              "        const buttonEl =\n",
              "          document.querySelector('#df-7843e904-c78c-4968-8642-7f9d24061595 button.colab-df-convert');\n",
              "        buttonEl.style.display =\n",
              "          google.colab.kernel.accessAllowed ? 'block' : 'none';\n",
              "\n",
              "        async function convertToInteractive(key) {\n",
              "          const element = document.querySelector('#df-7843e904-c78c-4968-8642-7f9d24061595');\n",
              "          const dataTable =\n",
              "            await google.colab.kernel.invokeFunction('convertToInteractive',\n",
              "                                                     [key], {});\n",
              "          if (!dataTable) return;\n",
              "\n",
              "          const docLinkHtml = 'Like what you see? Visit the ' +\n",
              "            '<a target=\"_blank\" href=https://colab.research.google.com/notebooks/data_table.ipynb>data table notebook</a>'\n",
              "            + ' to learn more about interactive tables.';\n",
              "          element.innerHTML = '';\n",
              "          dataTable['output_type'] = 'display_data';\n",
              "          await google.colab.output.renderOutput(dataTable, element);\n",
              "          const docLink = document.createElement('div');\n",
              "          docLink.innerHTML = docLinkHtml;\n",
              "          element.appendChild(docLink);\n",
              "        }\n",
              "      </script>\n",
              "    </div>\n",
              "  </div>\n",
              "  "
            ],
            "text/plain": [
              "            Year                                 ... Completions                      \n",
              "           count         mean       std     min  ...         25%    50%    75%     max\n",
              "Geography                                        ...                                  \n",
              "Nevada     207.0  2014.067633  1.405698  2012.0  ...        98.0  200.0  414.0  5388.0\n",
              "\n",
              "[1 rows x 16 columns]"
            ]
          },
          "metadata": {},
          "execution_count": 17
        }
      ]
    },
    {
      "cell_type": "code",
      "source": [
        ""
      ],
      "metadata": {
        "id": "V4PLKFL1kW_8"
      },
      "execution_count": null,
      "outputs": []
    },
    {
      "cell_type": "markdown",
      "source": [
        "# **Intro to Pandas:  Pandas Operations**\n",
        "\n",
        "\n"
      ],
      "metadata": {
        "id": "7JK74biXkouW"
      }
    },
    {
      "cell_type": "markdown",
      "source": [
        "**TODO(EFLATT)**\n",
        "* TODO"
      ],
      "metadata": {
        "id": "Eruc7-GvkouX"
      }
    },
    {
      "cell_type": "code",
      "source": [
        ""
      ],
      "metadata": {
        "id": "aF2SGHKCkouZ"
      },
      "execution_count": null,
      "outputs": []
    }
  ]
}