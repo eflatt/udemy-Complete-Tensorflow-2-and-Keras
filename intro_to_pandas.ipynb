{
  "nbformat": 4,
  "nbformat_minor": 0,
  "metadata": {
    "colab": {
      "name": "intro-to-pandas.ipynb",
      "provenance": [],
      "authorship_tag": "ABX9TyNTE7G3+gpi/WnXEy6K6SQP",
      "include_colab_link": true
    },
    "kernelspec": {
      "name": "python3",
      "display_name": "Python 3"
    },
    "language_info": {
      "name": "python"
    }
  },
  "cells": [
    {
      "cell_type": "markdown",
      "metadata": {
        "id": "view-in-github",
        "colab_type": "text"
      },
      "source": [
        "<a href=\"https://colab.research.google.com/github/eflatt/udemy-Complete-Tensorflow-2-and-Keras/blob/main/intro_to_pandas.ipynb\" target=\"_parent\"><img src=\"https://colab.research.google.com/assets/colab-badge.svg\" alt=\"Open In Colab\"/></a>"
      ]
    },
    {
      "cell_type": "markdown",
      "source": [
        "# **Intro to Pandas:  Initialization and Access**\n",
        "\n",
        "\n"
      ],
      "metadata": {
        "id": "s31zfxiTUEoi"
      }
    },
    {
      "cell_type": "markdown",
      "source": [
        "Pandas derives from Panel-Data and is built on numpy\n",
        "\n",
        "1.  A *Series* is a numpy data array with a named index\n",
        "2.  A *Dataframe* is a data matrix with labeled index and columns\n",
        "\n",
        "Highly recommend to check out:  [this link](https://pandas.pydata.org/pandas-docs/stable)"
      ],
      "metadata": {
        "id": "KzbAL-1TexhH"
      }
    },
    {
      "cell_type": "markdown",
      "source": [
        "**Pandas Series Initialization**"
      ],
      "metadata": {
        "id": "I8brucbIgZ1E"
      }
    },
    {
      "cell_type": "code",
      "source": [
        "# Initialize with the standard imports\n",
        "\n",
        "import numpy as np\n",
        "import pandas as pd"
      ],
      "metadata": {
        "id": "bsxxjmguNmK4"
      },
      "execution_count": null,
      "outputs": []
    },
    {
      "cell_type": "code",
      "source": [
        "# Some standard python objects - lists of strings, of ints, numpy array and\n",
        "# dictionary:\n",
        "\n",
        "labels = ['a', 'b', 'c']\n",
        "\n",
        "mylist = [10, 20, 30]\n",
        "\n",
        "arr = np.array([10, 20, 30])\n",
        "\n",
        "d = {'a':10, 'b':20, 'c':30}"
      ],
      "metadata": {
        "id": "GHGV-13JgrNe"
      },
      "execution_count": null,
      "outputs": []
    },
    {
      "cell_type": "markdown",
      "source": [
        "**Initialize a Pandas Series**\n",
        "Important arguments to pd.Series() are the first two:  the *data* and the *index*"
      ],
      "metadata": {
        "id": "S0mshXXkhPJk"
      }
    },
    {
      "cell_type": "code",
      "source": [
        "# If you don't specify the index, then Pandas will by default\n",
        "# create an index integers >= 0 and associate each with\n",
        "# a value in the data you put into the ctor.\n",
        "print(\"pd.Series(data=mylist): \\n\" + str(pd.Series(data=mylist)) + \"\\n\")"
      ],
      "metadata": {
        "id": "p1qMPeZGhIru"
      },
      "execution_count": null,
      "outputs": []
    },
    {
      "cell_type": "code",
      "source": [
        "# But you can choose to specify an index as the second argument\n",
        "# of the ctor.  In this case we use a python list of strings as\n",
        "# the index:\n",
        "# You also don't need to expressly say data= and index =, you could\n",
        "# Have written pd.Series(data, index), just as well.\n",
        "print(\"pd.Series(data=mylist,index=labels): \\n\" + str(pd.Series(data=mylist,index=labels)) + \"\\n\")"
      ],
      "metadata": {
        "id": "JPH5DCMmhduO"
      },
      "execution_count": null,
      "outputs": []
    },
    {
      "cell_type": "code",
      "source": [
        "# You can also supply the ctor for a pd.Series with a numpy array just as well:\n",
        "print(\"pd.Series(arr,labels): \\n\" + str(pd.Series(arr,labels)) + \"\\n\")"
      ],
      "metadata": {
        "id": "hWmy_OXCihyf"
      },
      "execution_count": null,
      "outputs": []
    },
    {
      "cell_type": "code",
      "source": [
        "# It is handy, but not right now to supply a py dictionary to the pd.Series ctor:\n",
        "print(\"pd.Series(d): \\n\" + str(pd.Series(d)) + \"\\n\")"
      ],
      "metadata": {
        "id": "KHG_uIusjewo"
      },
      "execution_count": null,
      "outputs": []
    },
    {
      "cell_type": "markdown",
      "source": [
        "**Access data from Pandas Series**"
      ],
      "metadata": {
        "id": "I-RmcvF0keXL"
      }
    },
    {
      "cell_type": "code",
      "source": [
        "# Initializations and accesses\n",
        "\n",
        "salesQ1 = pd.Series([250, 450, 200, 150], index=['USA', 'China', 'India', 'Brazil'])\n",
        "print(\"salesQ1 is \\n\" + str(salesQ1) + '\\n')\n",
        "\n",
        "# Note the change in index from salesQ1!\n",
        "salesQ2 = pd.Series([260, 500, 210, 100], index=['USA', 'China', 'India', 'Japan'])\n",
        "print(\"salesQ2 is \\n\" + str(salesQ2) + '\\n')\n",
        "\n",
        "# Access by using the index names (kinda like a py dictionary):\n",
        "print(\"salesQ2['China']=\" + str(salesQ2['China']) + '\\n')\n",
        "\n",
        "# You can also just key off 'position' index (0, 1, 2, ...)\n",
        "# so salesQ2[2] would yield 210 \n",
        "\n",
        "# if you specify an invalid key/index value, you'll get a key error:\n",
        "# salesQ2[10] or salesQ1['Australia'] would give you a key error.\n"
      ],
      "metadata": {
        "id": "ItZTy43Gj2C1"
      },
      "execution_count": null,
      "outputs": []
    },
    {
      "cell_type": "markdown",
      "source": [
        "**Operations between multiple Pandas Series**"
      ],
      "metadata": {
        "id": "q8pyw64_opN1"
      }
    },
    {
      "cell_type": "code",
      "source": [
        "# One can add two series:\n",
        "print(\"salesQ1 + salesQ2= \\n\" + str(salesQ1 + salesQ2) +'\\n')\n",
        "\n",
        "# DEFAULT BEHAVIOR\n",
        "# Important note, when the keys don't match in both summands\n",
        "# (so Brazil and Japan) don't live in both lists being summed\n",
        "# then the default behavior is to give you a NaN (b/c the sum\n",
        "# doesn't exist)\n",
        "#\n",
        "# ALTERNATIVELY, you can say that missing keys have a default\n",
        "# value of 0, but not right now."
      ],
      "metadata": {
        "id": "JrUYOlSyk0wq"
      },
      "execution_count": null,
      "outputs": []
    },
    {
      "cell_type": "markdown",
      "source": [
        "# **Intro to Pandas:  Manipulating Columns and Rows of a DataFrame**\n",
        "\n",
        "\n"
      ],
      "metadata": {
        "id": "ZqXSrCRdoF1X"
      }
    },
    {
      "cell_type": "markdown",
      "source": [
        "**A Pandas dataframe is simply multiple pandas series that share the same index**\n",
        "\n",
        "Think of it like a spreadsheet that you can manipulate w/ Python.\n",
        "\n",
        "Let's create a Pandas Dataframe:"
      ],
      "metadata": {
        "id": "us7qmvsHoF1X"
      }
    },
    {
      "cell_type": "code",
      "source": [
        "import numpy as np\n",
        "import pandas as pd\n",
        "\n",
        "# Column Labels:\n",
        "\n",
        "# In ML the columns are usually features\n",
        "columns = ['W','X','Y','Z']\n",
        "\n",
        "# Row Labels:\n",
        "# In ML the rows are usually samples/points:\n",
        "index = ['A','B','C','D','E']\n",
        "\n",
        "from numpy.random import randint\n",
        "\n",
        "# Create a seed so that our random numbers match the instructors':\n",
        "np.random.seed(42)\n",
        "data = randint(-100, 100, (5,4))\n",
        "\n",
        "# So we now have row labels, column labels, and data in the right dimension\n",
        "# We can now create our dataframe:\n",
        "\n",
        "df = pd.DataFrame(data, index, columns)\n",
        "df\n"
      ],
      "metadata": {
        "id": "ftrr6HtbpGau"
      },
      "execution_count": null,
      "outputs": []
    },
    {
      "cell_type": "markdown",
      "source": [
        "**How do we Access one or more Columns from the DataFrame?**"
      ],
      "metadata": {
        "id": "jj4Rt1oJrQ5U"
      }
    },
    {
      "cell_type": "code",
      "source": [
        "# To grab a single column (or feature):\n",
        "print(\"df['W']: \\n\" + str(df['W']) + \"\\n\")"
      ],
      "metadata": {
        "id": "ab_pQYA0rQmV"
      },
      "execution_count": null,
      "outputs": []
    },
    {
      "cell_type": "code",
      "source": [
        "# To grab multiple columns from a dataframe, you specify a LIST or series\n",
        "# of feature/column names - note the double brackets in the index:\n",
        "print(\"df[['W', 'Z']]: \\n\" + str(df[['W', 'Z']]) + \"\\n\")"
      ],
      "metadata": {
        "id": "EvBLwJKWqGzl"
      },
      "execution_count": null,
      "outputs": []
    },
    {
      "cell_type": "markdown",
      "source": [
        "**Feature Engineering:  How to create and delete new Columns based on existing Columns:**"
      ],
      "metadata": {
        "id": "WqNvuvlis5JA"
      }
    },
    {
      "cell_type": "code",
      "source": [
        "# The way to create new columns is to assign to some new column name:\n",
        "print('Adding new column called new which is sum of Columns W and Y')\n",
        "df['new'] = df['W'] + df['Y']\n",
        "df"
      ],
      "metadata": {
        "id": "jecGDEmMsbst"
      },
      "execution_count": null,
      "outputs": []
    },
    {
      "cell_type": "code",
      "source": [
        "# The way to remove a column from our dataframe, you use df.drop()\n",
        "# and pass in either the name of the column you want gone, or a list\n",
        "# of columns you want gone:\n",
        "\n",
        "# IMPORTANT NOTE:  drop() defaults to axis 0 (which is the rows), so to\n",
        "# drop a feature you must explicitly mention axis 1\n",
        "\n",
        "# REALLY IMPORTANT NOTE:  THIS IS NOT DESTRUCTIVE, if you want the\n",
        "# .drop() to stick, you need to assign it to a variable (in this case\n",
        "# in place we just assign back to df)\n",
        "print('Dropping new from axis 1 (columns):')\n",
        "df = df.drop('new', axis=1)\n",
        "df"
      ],
      "metadata": {
        "id": "cV-iVXoCu9sL"
      },
      "execution_count": null,
      "outputs": []
    },
    {
      "cell_type": "markdown",
      "source": [
        "**Access, Add and Delete operations on Rows**"
      ],
      "metadata": {
        "id": "nUKkit_-xr-E"
      }
    },
    {
      "cell_type": "markdown",
      "source": [
        "*Accessing Rows:*"
      ],
      "metadata": {
        "id": "anRdOudk0fi3"
      }
    },
    {
      "cell_type": "code",
      "source": [
        "# Since it is possible to have a row label the same as a column label, we\n",
        "# can't just naively say df['C']\n",
        "# There are 2 ways to access row 'C':\n",
        "# 1. The first is w/ the loc() method (note that this returns just the panda \n",
        "# numpy series ):\n",
        "\n",
        "df.loc['C']"
      ],
      "metadata": {
        "id": "DKIWyebmxnd4"
      },
      "execution_count": null,
      "outputs": []
    },
    {
      "cell_type": "code",
      "source": [
        "# To get a list of rows:\n",
        "df.loc[['C', 'E']]"
      ],
      "metadata": {
        "id": "PGF1-ZvAyDqU"
      },
      "execution_count": null,
      "outputs": []
    },
    {
      "cell_type": "code",
      "source": [
        "# 2.  The second way to access rows is by specifying the integer index through\n",
        "# using the iloc method on the dataframe thus:\n",
        "df\n",
        "df.iloc[0]"
      ],
      "metadata": {
        "id": "qncKVyn9yZmJ"
      },
      "execution_count": null,
      "outputs": []
    },
    {
      "cell_type": "code",
      "source": [
        "# You can also use all the fancy slicing stuff with iloc:\n",
        "df.iloc[:]"
      ],
      "metadata": {
        "id": "28nPXqjpz6IK"
      },
      "execution_count": null,
      "outputs": []
    },
    {
      "cell_type": "code",
      "source": [
        "# Gets you row 2 through but not including row 4\n",
        "df.iloc[2:4]"
      ],
      "metadata": {
        "id": "MYMaaseE0HGf"
      },
      "execution_count": null,
      "outputs": []
    },
    {
      "cell_type": "markdown",
      "source": [
        "*Deleting Rows*"
      ],
      "metadata": {
        "id": "P9rQMBwC0jrz"
      }
    },
    {
      "cell_type": "code",
      "source": [
        "# Unlike for columns, since the default for the drop access is 0 (rows)\n",
        "# you can naively just tell it what (or what list) to drop.\n",
        "\n",
        "# As before, the drop operation is NOT in-place destructive, you'd\n",
        "# need to reassign it back to df to make the drop permanent.\n",
        "df.drop(\"C\")"
      ],
      "metadata": {
        "id": "AkWC5DEI0Kwn"
      },
      "execution_count": null,
      "outputs": []
    },
    {
      "cell_type": "markdown",
      "source": [
        "*Selecting a subset of a row*"
      ],
      "metadata": {
        "id": "6KQgW0ts1EcA"
      }
    },
    {
      "cell_type": "code",
      "source": [
        "# The first argument is either the row name or a *list* of row names\n",
        "# The second argument is either the column name or a *list* of row names\n",
        "df"
      ],
      "metadata": {
        "id": "y__yXh4o01Rm"
      },
      "execution_count": null,
      "outputs": []
    },
    {
      "cell_type": "code",
      "source": [
        "# First argument selects row or rows\n",
        "# Second argument selects column or columns\n",
        "# Default assumption is that we want it all.\n",
        "df.loc[[\"B\",\"C\"], [\"Y\",\"Z\"]]"
      ],
      "metadata": {
        "id": "Jo70ZEeE1dql"
      },
      "execution_count": null,
      "outputs": []
    },
    {
      "cell_type": "markdown",
      "source": [
        "**Conditional Selection from a DataFrame**:  Where we access only those data that meet some condition."
      ],
      "metadata": {
        "id": "mzsrSvm-4JDt"
      }
    },
    {
      "cell_type": "code",
      "source": [
        "# Here's what we're working with\n",
        "df"
      ],
      "metadata": {
        "id": "EcL0GbZw1mxr"
      },
      "execution_count": null,
      "outputs": []
    },
    {
      "cell_type": "code",
      "source": [
        "# As with numpy series, a conditional of a dataframe\n",
        "# provides a boolean 'mask' where 'True means that the\n",
        "# condition was met, False otherwise'\n",
        "df > 0"
      ],
      "metadata": {
        "id": "0l33V1uk4XBD"
      },
      "execution_count": null,
      "outputs": []
    },
    {
      "cell_type": "code",
      "source": [
        "# However, unless we specify otherwise, pandas leaves NaNs\n",
        "# where the condition is false when applied as a filtering condition\n",
        "# to the frame thus:\n",
        "df[df>0]"
      ],
      "metadata": {
        "id": "hBJQqDcZ4aK3"
      },
      "execution_count": null,
      "outputs": []
    },
    {
      "cell_type": "code",
      "source": [
        "# If I want to apply a conditional to one column, I do so thus:\n",
        "df['X'] > 0"
      ],
      "metadata": {
        "id": "awEAw1Xe4gaO"
      },
      "execution_count": null,
      "outputs": []
    },
    {
      "cell_type": "code",
      "source": [
        "# If we 'broadcast' the condition df['X']>0 across the entire\n",
        "# DataFrame, then it only extracts those rowswhere that condition is met\n",
        "# (that is, where the X column value is > 0)\n",
        "\n",
        "# Filtering on a conditional selection ONLY returns the true rows\n",
        "df[df['X']>0]"
      ],
      "metadata": {
        "id": "iaZnEqb25SaX"
      },
      "execution_count": null,
      "outputs": []
    },
    {
      "cell_type": "markdown",
      "source": [
        "*Conditional Selections applied as filters, themselves return a DataFrame, so you can do standard DataFrame Operations thereto.*"
      ],
      "metadata": {
        "id": "fxpTPWQ46WJM"
      }
    },
    {
      "cell_type": "code",
      "source": [
        "# Since df[df['X']] is itself a dataframe, we can select off of it:\n",
        "df[df['X']>0]['W']"
      ],
      "metadata": {
        "id": "lGyDtfR_5XEp"
      },
      "execution_count": null,
      "outputs": []
    },
    {
      "cell_type": "markdown",
      "source": [
        "**How to do Logical/Boolean connectors and separate conditions**\n",
        "1.  Remember to wrap EACH condition with parens\n",
        "2.  And is a single ampersand:  &\n",
        "3.  Or is a single bar: |\n"
      ],
      "metadata": {
        "id": "bKOJ4voU68AN"
      }
    },
    {
      "cell_type": "code",
      "source": [
        "# Here's an example of a logically combined set of conditions (for AND):\n",
        "(df[\"W\"]>0) & (df[\"Y\"]>1)"
      ],
      "metadata": {
        "id": "lDkGxrkR6LKN"
      },
      "execution_count": null,
      "outputs": []
    },
    {
      "cell_type": "code",
      "source": [
        "df"
      ],
      "metadata": {
        "id": "DQdsWteS7YP1"
      },
      "execution_count": null,
      "outputs": []
    },
    {
      "cell_type": "markdown",
      "source": [
        "**How to set different Columns to be your Index, and not just\n",
        "what got set at ctor time for the DataFrame**"
      ],
      "metadata": {
        "id": "0mNY3TC_70cS"
      }
    },
    {
      "cell_type": "code",
      "source": [
        "df"
      ],
      "metadata": {
        "id": "VDxRFHLW7raz"
      },
      "execution_count": null,
      "outputs": []
    },
    {
      "cell_type": "markdown",
      "source": [
        "**If you want to make your ctor' initiated column into just another\n",
        "column, you can reset the index to the 'positional' 0-n integer index thus:**\n",
        "\n"
      ],
      "metadata": {
        "id": "zPB_b9Yf8JZK"
      }
    },
    {
      "cell_type": "code",
      "source": [
        "# Non-destructive in place, you can set A-F as a new column called index thus:\n",
        "df.reset_index()"
      ],
      "metadata": {
        "id": "VSAUE0XN78XN"
      },
      "execution_count": null,
      "outputs": []
    },
    {
      "cell_type": "markdown",
      "source": [
        "*Dynamically creating a new index column with df.set_index()*"
      ],
      "metadata": {
        "id": "88JUz7Pv8eCj"
      }
    },
    {
      "cell_type": "code",
      "source": [
        "new_ind = ['CA','NY','WY','OR',\"CO\"]\n",
        "# Note that this addition of a column is destructive\n",
        "df['States'] = new_ind\n",
        "\n",
        "# Now that you've added the column, go ahead and set it as the\n",
        "# index like this, note that this is NOT DESTRUCTIVE, so we\n",
        "# need to reassign it back to df to make it so (the line below\n",
        "# therefore IS destructive):\n",
        "df = df.set_index(\"States\")\n",
        "df"
      ],
      "metadata": {
        "id": "HJjeQmtS8Fb0"
      },
      "execution_count": null,
      "outputs": []
    },
    {
      "cell_type": "code",
      "source": [
        "# ***Important note - After setting the index, the the index is NOT\n",
        "# A column, it is removed as a column from the dataframe, \n",
        "# Observe: 'States' is not included when we ask what the columns are:***\n",
        "df.columns"
      ],
      "metadata": {
        "id": "4PI0HPvd8_gd"
      },
      "execution_count": null,
      "outputs": []
    },
    {
      "cell_type": "markdown",
      "source": [
        "**Some handy Dataframe summaries:**"
      ],
      "metadata": {
        "id": "uMdkYJ60-eJf"
      }
    },
    {
      "cell_type": "markdown",
      "source": [
        "*df.describe(), df.info(), df.dtypes*"
      ],
      "metadata": {
        "id": "NMe2i44v-yWj"
      }
    },
    {
      "cell_type": "code",
      "source": [
        "df.describe()"
      ],
      "metadata": {
        "id": "52dJjxSc-RMJ"
      },
      "execution_count": null,
      "outputs": []
    },
    {
      "cell_type": "code",
      "source": [
        "df.info()"
      ],
      "metadata": {
        "id": "ah-f6lRf-ilL"
      },
      "execution_count": null,
      "outputs": []
    },
    {
      "cell_type": "code",
      "source": [
        "df.dtypes"
      ],
      "metadata": {
        "id": "sh0wFBS8-sti"
      },
      "execution_count": null,
      "outputs": []
    },
    {
      "cell_type": "markdown",
      "source": [
        "# **Intro to Pandas:  Dealing with Missing Data**\n",
        "\n",
        "\n"
      ],
      "metadata": {
        "id": "VNA7DshLC3jw"
      }
    },
    {
      "cell_type": "markdown",
      "source": [
        "**Real world Datasets often have missing data, you have three choices:**\n",
        "1.  Leave it as missing\n",
        "*  Depending on the type of data, this is a reasonable choice\n",
        "*  You could simply treat NaN as another category\n",
        "\n",
        "2.  Remove it\n",
        "* Depends on how much is missing - if too much is missing to make a reasonable guess, then it makes sense to drop it\n",
        "* If we're only missing a small percentage, it makes sense to remove a few rows (datapoints) from the dataset\n",
        "\n",
        "3.  Fill it in w/ a substitute\n",
        "* If a non-trivial percentage is missing and the data rows are particularly important\n",
        "* Fill in w/ mode, mean, median\n",
        "* or base it off of another feature column (feature engineering)\n",
        "\n",
        "**Ultimately you have to use common sense and remember the goals you have to see which stratgegy makes the most sense.**\n",
        "\n",
        "```\n",
        "# This is formatted as code\n",
        "```\n",
        "\n",
        "\n"
      ],
      "metadata": {
        "id": "atm6Y2W7C3j4"
      }
    },
    {
      "cell_type": "code",
      "source": [
        "# Initialize data to play with\n",
        "\n",
        "import numpy as np\n",
        "import pandas as pd\n",
        "\n",
        "# Initialize the dataframe with a python dictionary\n",
        "df = pd.DataFrame({'A':[1,2,np.nan,4],'B':[5,np.nan,np.nan,8],'C':[10,20,30,40]})\n",
        "df\n"
      ],
      "metadata": {
        "id": "6AYvu5NbxQhE"
      },
      "execution_count": null,
      "outputs": []
    },
    {
      "cell_type": "markdown",
      "source": [
        "**How would we go about dropping/removing missing data?** \n",
        "Use the dropna() method on the dataframe."
      ],
      "metadata": {
        "id": "8RWOLq9qySml"
      }
    },
    {
      "cell_type": "code",
      "source": [
        "# df.dropna() default:\n",
        "# Only keep the rows where all data is present (no missing values)\n",
        "df.dropna()"
      ],
      "metadata": {
        "id": "PkkS-e-8x1sd"
      },
      "execution_count": null,
      "outputs": []
    },
    {
      "cell_type": "code",
      "source": [
        "# df.dropna():  axis=0 means 'the index', and 1 means the (data) columns\n",
        "# Note that by default it only keeps the columns where no data is missing.\n",
        "df.dropna(axis=1)"
      ],
      "metadata": {
        "id": "DZABb4G2ypcJ"
      },
      "execution_count": null,
      "outputs": []
    },
    {
      "cell_type": "code",
      "source": [
        "# the thresh parameter means - keep the column if it has *at least*\n",
        "# thresh *non-empty* values\n",
        "# So, setting thresh=3 drops column B which only has 2 non-empty values\n",
        "df.dropna(axis=1, thresh=3)"
      ],
      "metadata": {
        "id": "TbKO8yeWy2Rh"
      },
      "execution_count": null,
      "outputs": []
    },
    {
      "cell_type": "markdown",
      "source": [
        "**How would we go about updating/replacing missing data?** \n",
        "Use the fillna() method on the dataframe."
      ],
      "metadata": {
        "id": "iotjiEcC07g2"
      }
    },
    {
      "cell_type": "code",
      "source": [
        "# Note that before calling fillna that the values\n",
        "# are all integers, and here I'm sticking a string in.\n",
        "# Pandas doesn't complain\n",
        "df.fillna(value='FILL VALUE')\n",
        "df.dtypes"
      ],
      "metadata": {
        "id": "CzSWtx9l0zWH"
      },
      "execution_count": null,
      "outputs": []
    },
    {
      "cell_type": "code",
      "source": [
        "# Replace NaN with 0 - note that it recasts the 0 to a float64 since that's\n",
        "# The type of the column\n",
        "df.fillna(value=0)"
      ],
      "metadata": {
        "id": "BLX40h5PzQUP"
      },
      "execution_count": null,
      "outputs": []
    },
    {
      "cell_type": "code",
      "source": [
        "# To Fill in all missing values throughout the entire dataframe with\n",
        "# The mean of the column/feature, you write:\n",
        "df.fillna(df.mean())"
      ],
      "metadata": {
        "id": "3iJd5g4x3R4O"
      },
      "execution_count": null,
      "outputs": []
    },
    {
      "cell_type": "code",
      "source": [
        "# You can focus where you replace missing values to a particular column:\n",
        "# NOTE: that this is not in-place destructive\n",
        "df['A'].fillna(value=0)\n",
        "\n",
        "# To make this 'permanent', you'd assign the 'fixed' column back to the original\n",
        "# dataframe thus:\n",
        "df['A']=df['A'].fillna(value=0)\n"
      ],
      "metadata": {
        "id": "QTNP5s521dXg"
      },
      "execution_count": null,
      "outputs": []
    },
    {
      "cell_type": "code",
      "source": [
        "# Let's say that we want to fill in column B with the\n",
        "# average of the non-empty values in B:\n",
        "df['B']=df['B'].fillna(value=df['B'].mean())"
      ],
      "metadata": {
        "id": "Tj-Qe26q2IPS"
      },
      "execution_count": null,
      "outputs": []
    },
    {
      "cell_type": "markdown",
      "source": [
        "# **Intro to Pandas:  GroupBy Operations**\n",
        "\n",
        "\n"
      ],
      "metadata": {
        "id": "RrFxx0kp4V58"
      }
    },
    {
      "cell_type": "markdown",
      "source": [
        "**Often we want to explore how values are distributed or aggregated across groups.**\n",
        "* This is similar to how GROUPBY works in SQL\n",
        "\n",
        "**Assume you have a column that is categorical, and a separate column that is continuous (ints, reals, etc).**\n",
        "  \n",
        "**This is what a GROUPBY Does (also often referred to as Split-Apply-Combine):**\n",
        "* Step One:  Select the column that is categorical\n",
        "* Step Two:  Split up into smaller frames by category\n",
        "* Step Three:  Apply some **aggregation function** on each smaller per-category frame (like a sum)\n",
        "* Step Four:  Recombine into a single dataframe where the categorical column remains (and dups removed) and the applied function is associated with that categorical column in a separate column\n",
        "\n",
        "**The aggregation method takes multiple values and combines them into a single value**\n",
        "* Like mean, sum, std, count, max, min, etc..."
      ],
      "metadata": {
        "id": "S2aK_v5K4V58"
      }
    },
    {
      "cell_type": "code",
      "source": [
        "# Initialize data to play with\n",
        "import pandas as pd\n",
        "\n",
        "# Load from Google Drive thus:\n",
        "from google.colab import drive\n",
        "drive.mount('/content/drive', force_remount=True)\n",
        "path = '/content/drive/My Drive/TensorFlowTutorialData/Universities.csv'\n",
        "\n",
        "# Load the csv file:\n",
        "df = pd.read_csv(path)\n"
      ],
      "metadata": {
        "id": "ofu_Vpa14V59"
      },
      "execution_count": null,
      "outputs": []
    },
    {
      "cell_type": "markdown",
      "source": [
        "**df.head() let's you look at the first few rows of a dataframe.**"
      ],
      "metadata": {
        "id": "0APWnh75G0w9"
      }
    },
    {
      "cell_type": "code",
      "source": [
        "# To show first 5 rows (by default)\n",
        "df.head()\n",
        "# Note how Year is ALSO categorical (even though it's not a string)\n"
      ],
      "metadata": {
        "id": "OSI297YvFplk"
      },
      "execution_count": null,
      "outputs": []
    },
    {
      "cell_type": "markdown",
      "source": [
        "**Let's play a little bit with groupby() on df**"
      ],
      "metadata": {
        "id": "Kz619fK7I1HO"
      }
    },
    {
      "cell_type": "code",
      "source": [
        "# Let's say that we want to see the number of completions, per year across \n",
        "# all universities (so the category is the year):\n",
        "\n",
        "# Without some aggregator function you just get the object back\n",
        "df.groupby('Year')"
      ],
      "metadata": {
        "id": "gyvYY8iPGV8W"
      },
      "execution_count": null,
      "outputs": []
    },
    {
      "cell_type": "code",
      "source": [
        "# But if you specify an aggregator function (like a mean or sum), you get\n",
        "# The values.\n",
        "\n",
        "# NOTE HOW IT DOES NOT SHOW Sedctor, University, etc... it's b/c the aggregator\n",
        "# function (mean) doesn't work on string-based columns, so it makes no sense.\n",
        "\n",
        "df.groupby('Year').mean()\n",
        "\n",
        "# Note too that the 'Year' column returned by this groupby is the *index* and\n",
        "# not a data column"
      ],
      "metadata": {
        "id": "TDtdKGiOHTL4"
      },
      "execution_count": null,
      "outputs": []
    },
    {
      "cell_type": "code",
      "source": [
        "# You can play with sorting thus:\n",
        "df.groupby('Year').sum().sort_index(ascending=False)"
      ],
      "metadata": {
        "id": "IHKVewlCHYA3"
      },
      "execution_count": null,
      "outputs": []
    },
    {
      "cell_type": "markdown",
      "source": [
        "**You can groupby one index and then groupby again for a subindex.**\n",
        "* Note that you are left w/ only one column('completions') and 2\n",
        "indices ('year' and 'sector')"
      ],
      "metadata": {
        "id": "-7jNfg8HKl3D"
      }
    },
    {
      "cell_type": "code",
      "source": [
        "df.groupby(['Year','Sector']).sum().sort_index(ascending=False)"
      ],
      "metadata": {
        "id": "gxy_KtgKKUQg"
      },
      "execution_count": null,
      "outputs": []
    },
    {
      "cell_type": "markdown",
      "source": [
        "**Another handy technique is to groupby and describe each category**"
      ],
      "metadata": {
        "id": "4l9AUwFWi1Hz"
      }
    },
    {
      "cell_type": "code",
      "source": [
        "# Note that transpose() flips the index (usually categorical data, in this case\n",
        "# years) be columns.\n",
        "df.groupby('Year').describe().transpose()"
      ],
      "metadata": {
        "id": "SWEsAqh9K1AM"
      },
      "execution_count": null,
      "outputs": []
    },
    {
      "cell_type": "code",
      "source": [
        "df.groupby('Geography').describe()"
      ],
      "metadata": {
        "id": "cDXywqLrjlZ6"
      },
      "execution_count": null,
      "outputs": []
    },
    {
      "cell_type": "code",
      "source": [
        ""
      ],
      "metadata": {
        "id": "V4PLKFL1kW_8"
      },
      "execution_count": null,
      "outputs": []
    },
    {
      "cell_type": "markdown",
      "source": [
        "# **Intro to Pandas:  Pandas Operations**\n",
        "\n",
        "\n"
      ],
      "metadata": {
        "id": "7JK74biXkouW"
      }
    },
    {
      "cell_type": "markdown",
      "source": [
        "**Some Miscellaneous/Helpful things you can do with Pandas**"
      ],
      "metadata": {
        "id": "Eruc7-GvkouX"
      }
    },
    {
      "cell_type": "code",
      "source": [
        "# Set up your datastructures to play with...\n",
        "import pandas as pd\n",
        "\n",
        "df_one = pd.DataFrame({'k1':['A', 'A', 'B', 'B','C','C'],\n",
        "                       'col1':[100,200,300,300,400,500],\n",
        "                       'col2':['NY','CA','WA','WA','AK','NV']})\n"
      ],
      "metadata": {
        "id": "aF2SGHKCkouZ"
      },
      "execution_count": 21,
      "outputs": []
    },
    {
      "cell_type": "code",
      "source": [
        ""
      ],
      "metadata": {
        "id": "9bWHIgOPDSBS"
      },
      "execution_count": null,
      "outputs": []
    },
    {
      "cell_type": "markdown",
      "source": [
        "**Accessing and Maniuplating Unique values in columns**"
      ],
      "metadata": {
        "id": "3P8gksbNEiSX"
      }
    },
    {
      "cell_type": "code",
      "source": [
        "# Extract all the values in a particular column w/o repeats (so here, 'WA' is\n",
        "# there only once, in spite of being in 2 rows).\n",
        "df_one['col2'].unique()\n"
      ],
      "metadata": {
        "id": "4cRwq0JdDbgN"
      },
      "execution_count": null,
      "outputs": []
    },
    {
      "cell_type": "code",
      "source": [
        "# How many unique values are in a given column?\n",
        "df_one['col2'].nunique()"
      ],
      "metadata": {
        "id": "d1ibkJTuD6U1"
      },
      "execution_count": null,
      "outputs": []
    },
    {
      "cell_type": "code",
      "source": [
        "# If you want a histogram/counts per unique entry:\n",
        "df_one['col2'].value_counts()"
      ],
      "metadata": {
        "id": "_dhhUnYeEp2h"
      },
      "execution_count": null,
      "outputs": []
    },
    {
      "cell_type": "markdown",
      "source": [
        "**If you want to drop duplicate rows:**"
      ],
      "metadata": {
        "id": "JHx_tQkEFOHi"
      }
    },
    {
      "cell_type": "code",
      "source": [
        "# Importantly it drops the second (and beyond) duplicates\n",
        "# Note that 3 is skipped in the index in the return value:\n",
        "df_one.drop_duplicates()"
      ],
      "metadata": {
        "id": "UUF3QxaQE-Vr"
      },
      "execution_count": null,
      "outputs": []
    },
    {
      "cell_type": "markdown",
      "source": [
        "**Applying complex functions to engineer/create new columns, apply() and map()**\n",
        "**THIS IS SUPER IMPORTANT**"
      ],
      "metadata": {
        "id": "DBG--m53Ftn_"
      }
    },
    {
      "cell_type": "code",
      "source": [
        "# To add a new column and construct it from other columns\n",
        "# This is review:\n",
        "df_one['NEW']=df_one['col1'] * 10\n",
        "df_one"
      ],
      "metadata": {
        "id": "_B51QWC8FT3D"
      },
      "execution_count": null,
      "outputs": []
    },
    {
      "cell_type": "code",
      "source": [
        "# But if we want to do something more complex\n",
        "# E.g. : We want to create a new column that is composed of the first letter\n",
        "# of every state name in col2.\n",
        "\n",
        "# First, create a py function that will operate on every row in a column:\n",
        "def grab_first_letter(state):\n",
        "  return state[0]\n",
        "\n",
        "# Now use the apply method to apply this function to every row:\n",
        "# no (), just name the function you defined\n",
        "df_one['first_letter'] = df_one['col2'].apply(grab_first_letter)\n",
        "\n",
        "df_one\n",
        "\n"
      ],
      "metadata": {
        "id": "7t2I-BXkFkxy"
      },
      "execution_count": null,
      "outputs": []
    },
    {
      "cell_type": "code",
      "source": [
        "# Another thing you can do is create a map (a dictionary) that maps one\n",
        "# value to another value, then just .map() it to the frame:\n",
        "# Note that the map() is not in place destructive it needs to be assigned\n",
        "# (or a new column created as below):\n",
        "\n",
        "# the keys in my_map correspond to values in the column to which\n",
        "# the map is being .map()'ped\n",
        "my_map = {'A':1, 'B':2, 'C':3}\n",
        "df_one['num']=df_one['k1'].map(my_map)\n",
        "df_one"
      ],
      "metadata": {
        "colab": {
          "base_uri": "https://localhost:8080/",
          "height": 238
        },
        "id": "PBcE-XwaGqJj",
        "outputId": "f123e9a5-6eec-4b30-db2e-11276d9da2b2"
      },
      "execution_count": 23,
      "outputs": [
        {
          "output_type": "execute_result",
          "data": {
            "text/html": [
              "\n",
              "  <div id=\"df-e7b1bc1c-3e58-4fe4-aea7-f042467d999b\">\n",
              "    <div class=\"colab-df-container\">\n",
              "      <div>\n",
              "<style scoped>\n",
              "    .dataframe tbody tr th:only-of-type {\n",
              "        vertical-align: middle;\n",
              "    }\n",
              "\n",
              "    .dataframe tbody tr th {\n",
              "        vertical-align: top;\n",
              "    }\n",
              "\n",
              "    .dataframe thead th {\n",
              "        text-align: right;\n",
              "    }\n",
              "</style>\n",
              "<table border=\"1\" class=\"dataframe\">\n",
              "  <thead>\n",
              "    <tr style=\"text-align: right;\">\n",
              "      <th></th>\n",
              "      <th>k1</th>\n",
              "      <th>col1</th>\n",
              "      <th>col2</th>\n",
              "      <th>num</th>\n",
              "    </tr>\n",
              "  </thead>\n",
              "  <tbody>\n",
              "    <tr>\n",
              "      <th>0</th>\n",
              "      <td>A</td>\n",
              "      <td>100</td>\n",
              "      <td>NY</td>\n",
              "      <td>1</td>\n",
              "    </tr>\n",
              "    <tr>\n",
              "      <th>1</th>\n",
              "      <td>A</td>\n",
              "      <td>200</td>\n",
              "      <td>CA</td>\n",
              "      <td>1</td>\n",
              "    </tr>\n",
              "    <tr>\n",
              "      <th>2</th>\n",
              "      <td>B</td>\n",
              "      <td>300</td>\n",
              "      <td>WA</td>\n",
              "      <td>2</td>\n",
              "    </tr>\n",
              "    <tr>\n",
              "      <th>3</th>\n",
              "      <td>B</td>\n",
              "      <td>300</td>\n",
              "      <td>WA</td>\n",
              "      <td>2</td>\n",
              "    </tr>\n",
              "    <tr>\n",
              "      <th>4</th>\n",
              "      <td>C</td>\n",
              "      <td>400</td>\n",
              "      <td>AK</td>\n",
              "      <td>3</td>\n",
              "    </tr>\n",
              "    <tr>\n",
              "      <th>5</th>\n",
              "      <td>C</td>\n",
              "      <td>500</td>\n",
              "      <td>NV</td>\n",
              "      <td>3</td>\n",
              "    </tr>\n",
              "  </tbody>\n",
              "</table>\n",
              "</div>\n",
              "      <button class=\"colab-df-convert\" onclick=\"convertToInteractive('df-e7b1bc1c-3e58-4fe4-aea7-f042467d999b')\"\n",
              "              title=\"Convert this dataframe to an interactive table.\"\n",
              "              style=\"display:none;\">\n",
              "        \n",
              "  <svg xmlns=\"http://www.w3.org/2000/svg\" height=\"24px\"viewBox=\"0 0 24 24\"\n",
              "       width=\"24px\">\n",
              "    <path d=\"M0 0h24v24H0V0z\" fill=\"none\"/>\n",
              "    <path d=\"M18.56 5.44l.94 2.06.94-2.06 2.06-.94-2.06-.94-.94-2.06-.94 2.06-2.06.94zm-11 1L8.5 8.5l.94-2.06 2.06-.94-2.06-.94L8.5 2.5l-.94 2.06-2.06.94zm10 10l.94 2.06.94-2.06 2.06-.94-2.06-.94-.94-2.06-.94 2.06-2.06.94z\"/><path d=\"M17.41 7.96l-1.37-1.37c-.4-.4-.92-.59-1.43-.59-.52 0-1.04.2-1.43.59L10.3 9.45l-7.72 7.72c-.78.78-.78 2.05 0 2.83L4 21.41c.39.39.9.59 1.41.59.51 0 1.02-.2 1.41-.59l7.78-7.78 2.81-2.81c.8-.78.8-2.07 0-2.86zM5.41 20L4 18.59l7.72-7.72 1.47 1.35L5.41 20z\"/>\n",
              "  </svg>\n",
              "      </button>\n",
              "      \n",
              "  <style>\n",
              "    .colab-df-container {\n",
              "      display:flex;\n",
              "      flex-wrap:wrap;\n",
              "      gap: 12px;\n",
              "    }\n",
              "\n",
              "    .colab-df-convert {\n",
              "      background-color: #E8F0FE;\n",
              "      border: none;\n",
              "      border-radius: 50%;\n",
              "      cursor: pointer;\n",
              "      display: none;\n",
              "      fill: #1967D2;\n",
              "      height: 32px;\n",
              "      padding: 0 0 0 0;\n",
              "      width: 32px;\n",
              "    }\n",
              "\n",
              "    .colab-df-convert:hover {\n",
              "      background-color: #E2EBFA;\n",
              "      box-shadow: 0px 1px 2px rgba(60, 64, 67, 0.3), 0px 1px 3px 1px rgba(60, 64, 67, 0.15);\n",
              "      fill: #174EA6;\n",
              "    }\n",
              "\n",
              "    [theme=dark] .colab-df-convert {\n",
              "      background-color: #3B4455;\n",
              "      fill: #D2E3FC;\n",
              "    }\n",
              "\n",
              "    [theme=dark] .colab-df-convert:hover {\n",
              "      background-color: #434B5C;\n",
              "      box-shadow: 0px 1px 3px 1px rgba(0, 0, 0, 0.15);\n",
              "      filter: drop-shadow(0px 1px 2px rgba(0, 0, 0, 0.3));\n",
              "      fill: #FFFFFF;\n",
              "    }\n",
              "  </style>\n",
              "\n",
              "      <script>\n",
              "        const buttonEl =\n",
              "          document.querySelector('#df-e7b1bc1c-3e58-4fe4-aea7-f042467d999b button.colab-df-convert');\n",
              "        buttonEl.style.display =\n",
              "          google.colab.kernel.accessAllowed ? 'block' : 'none';\n",
              "\n",
              "        async function convertToInteractive(key) {\n",
              "          const element = document.querySelector('#df-e7b1bc1c-3e58-4fe4-aea7-f042467d999b');\n",
              "          const dataTable =\n",
              "            await google.colab.kernel.invokeFunction('convertToInteractive',\n",
              "                                                     [key], {});\n",
              "          if (!dataTable) return;\n",
              "\n",
              "          const docLinkHtml = 'Like what you see? Visit the ' +\n",
              "            '<a target=\"_blank\" href=https://colab.research.google.com/notebooks/data_table.ipynb>data table notebook</a>'\n",
              "            + ' to learn more about interactive tables.';\n",
              "          element.innerHTML = '';\n",
              "          dataTable['output_type'] = 'display_data';\n",
              "          await google.colab.output.renderOutput(dataTable, element);\n",
              "          const docLink = document.createElement('div');\n",
              "          docLink.innerHTML = docLinkHtml;\n",
              "          element.appendChild(docLink);\n",
              "        }\n",
              "      </script>\n",
              "    </div>\n",
              "  </div>\n",
              "  "
            ],
            "text/plain": [
              "  k1  col1 col2  num\n",
              "0  A   100   NY    1\n",
              "1  A   200   CA    1\n",
              "2  B   300   WA    2\n",
              "3  B   300   WA    2\n",
              "4  C   400   AK    3\n",
              "5  C   500   NV    3"
            ]
          },
          "metadata": {},
          "execution_count": 23
        }
      ]
    },
    {
      "cell_type": "markdown",
      "source": [
        "**Manipulating/accessing max values:**"
      ],
      "metadata": {
        "id": "HGddLPqxIkdE"
      }
    },
    {
      "cell_type": "code",
      "source": [
        "# Max value in col1?\n",
        "df_one['col1'].max()\n",
        "\n",
        "# Where is that max value located?\n",
        "df_one['col1'].idxmax()"
      ],
      "metadata": {
        "colab": {
          "base_uri": "https://localhost:8080/"
        },
        "id": "0U51lBtRHo1q",
        "outputId": "d0e23e3c-80c5-47ec-ba5a-ce0b32706f8e"
      },
      "execution_count": 27,
      "outputs": [
        {
          "output_type": "execute_result",
          "data": {
            "text/plain": [
              "5"
            ]
          },
          "metadata": {},
          "execution_count": 27
        }
      ]
    },
    {
      "cell_type": "markdown",
      "source": [
        "**Manipulating the column names in a dataframe**"
      ],
      "metadata": {
        "id": "ggMFaqmKJHoL"
      }
    },
    {
      "cell_type": "code",
      "source": [
        "# What are the column names?\n",
        "df_one.columns"
      ],
      "metadata": {
        "colab": {
          "base_uri": "https://localhost:8080/"
        },
        "id": "mUHJrUAPIw5d",
        "outputId": "8a8b090c-ae5a-4aee-9b2b-0e908d540994"
      },
      "execution_count": 28,
      "outputs": [
        {
          "output_type": "execute_result",
          "data": {
            "text/plain": [
              "Index(['k1', 'col1', 'col2', 'num'], dtype='object')"
            ]
          },
          "metadata": {},
          "execution_count": 28
        }
      ]
    },
    {
      "cell_type": "code",
      "source": [
        "# Rename the column names:\n",
        "# NOTE!!! THIS IS DESTRUCTIVE IN PLACE\n",
        "df_one.columns = ['C1', 'c2', 'c3', 'c4']"
      ],
      "metadata": {
        "id": "GuNBjs6eJPqI"
      },
      "execution_count": 33,
      "outputs": []
    },
    {
      "cell_type": "code",
      "source": [
        "df_one"
      ],
      "metadata": {
        "colab": {
          "base_uri": "https://localhost:8080/",
          "height": 238
        },
        "id": "f_pYS5uTJk4A",
        "outputId": "52f00ebb-168e-43fa-c50d-3330c8aa7bee"
      },
      "execution_count": 32,
      "outputs": [
        {
          "output_type": "execute_result",
          "data": {
            "text/html": [
              "\n",
              "  <div id=\"df-13db4d5d-7d4b-4605-94a3-489275b15412\">\n",
              "    <div class=\"colab-df-container\">\n",
              "      <div>\n",
              "<style scoped>\n",
              "    .dataframe tbody tr th:only-of-type {\n",
              "        vertical-align: middle;\n",
              "    }\n",
              "\n",
              "    .dataframe tbody tr th {\n",
              "        vertical-align: top;\n",
              "    }\n",
              "\n",
              "    .dataframe thead th {\n",
              "        text-align: right;\n",
              "    }\n",
              "</style>\n",
              "<table border=\"1\" class=\"dataframe\">\n",
              "  <thead>\n",
              "    <tr style=\"text-align: right;\">\n",
              "      <th></th>\n",
              "      <th>C1</th>\n",
              "      <th>c2</th>\n",
              "      <th>c3</th>\n",
              "      <th>c4</th>\n",
              "    </tr>\n",
              "  </thead>\n",
              "  <tbody>\n",
              "    <tr>\n",
              "      <th>0</th>\n",
              "      <td>A</td>\n",
              "      <td>100</td>\n",
              "      <td>NY</td>\n",
              "      <td>1</td>\n",
              "    </tr>\n",
              "    <tr>\n",
              "      <th>1</th>\n",
              "      <td>A</td>\n",
              "      <td>200</td>\n",
              "      <td>CA</td>\n",
              "      <td>1</td>\n",
              "    </tr>\n",
              "    <tr>\n",
              "      <th>2</th>\n",
              "      <td>B</td>\n",
              "      <td>300</td>\n",
              "      <td>WA</td>\n",
              "      <td>2</td>\n",
              "    </tr>\n",
              "    <tr>\n",
              "      <th>3</th>\n",
              "      <td>B</td>\n",
              "      <td>300</td>\n",
              "      <td>WA</td>\n",
              "      <td>2</td>\n",
              "    </tr>\n",
              "    <tr>\n",
              "      <th>4</th>\n",
              "      <td>C</td>\n",
              "      <td>400</td>\n",
              "      <td>AK</td>\n",
              "      <td>3</td>\n",
              "    </tr>\n",
              "    <tr>\n",
              "      <th>5</th>\n",
              "      <td>C</td>\n",
              "      <td>500</td>\n",
              "      <td>NV</td>\n",
              "      <td>3</td>\n",
              "    </tr>\n",
              "  </tbody>\n",
              "</table>\n",
              "</div>\n",
              "      <button class=\"colab-df-convert\" onclick=\"convertToInteractive('df-13db4d5d-7d4b-4605-94a3-489275b15412')\"\n",
              "              title=\"Convert this dataframe to an interactive table.\"\n",
              "              style=\"display:none;\">\n",
              "        \n",
              "  <svg xmlns=\"http://www.w3.org/2000/svg\" height=\"24px\"viewBox=\"0 0 24 24\"\n",
              "       width=\"24px\">\n",
              "    <path d=\"M0 0h24v24H0V0z\" fill=\"none\"/>\n",
              "    <path d=\"M18.56 5.44l.94 2.06.94-2.06 2.06-.94-2.06-.94-.94-2.06-.94 2.06-2.06.94zm-11 1L8.5 8.5l.94-2.06 2.06-.94-2.06-.94L8.5 2.5l-.94 2.06-2.06.94zm10 10l.94 2.06.94-2.06 2.06-.94-2.06-.94-.94-2.06-.94 2.06-2.06.94z\"/><path d=\"M17.41 7.96l-1.37-1.37c-.4-.4-.92-.59-1.43-.59-.52 0-1.04.2-1.43.59L10.3 9.45l-7.72 7.72c-.78.78-.78 2.05 0 2.83L4 21.41c.39.39.9.59 1.41.59.51 0 1.02-.2 1.41-.59l7.78-7.78 2.81-2.81c.8-.78.8-2.07 0-2.86zM5.41 20L4 18.59l7.72-7.72 1.47 1.35L5.41 20z\"/>\n",
              "  </svg>\n",
              "      </button>\n",
              "      \n",
              "  <style>\n",
              "    .colab-df-container {\n",
              "      display:flex;\n",
              "      flex-wrap:wrap;\n",
              "      gap: 12px;\n",
              "    }\n",
              "\n",
              "    .colab-df-convert {\n",
              "      background-color: #E8F0FE;\n",
              "      border: none;\n",
              "      border-radius: 50%;\n",
              "      cursor: pointer;\n",
              "      display: none;\n",
              "      fill: #1967D2;\n",
              "      height: 32px;\n",
              "      padding: 0 0 0 0;\n",
              "      width: 32px;\n",
              "    }\n",
              "\n",
              "    .colab-df-convert:hover {\n",
              "      background-color: #E2EBFA;\n",
              "      box-shadow: 0px 1px 2px rgba(60, 64, 67, 0.3), 0px 1px 3px 1px rgba(60, 64, 67, 0.15);\n",
              "      fill: #174EA6;\n",
              "    }\n",
              "\n",
              "    [theme=dark] .colab-df-convert {\n",
              "      background-color: #3B4455;\n",
              "      fill: #D2E3FC;\n",
              "    }\n",
              "\n",
              "    [theme=dark] .colab-df-convert:hover {\n",
              "      background-color: #434B5C;\n",
              "      box-shadow: 0px 1px 3px 1px rgba(0, 0, 0, 0.15);\n",
              "      filter: drop-shadow(0px 1px 2px rgba(0, 0, 0, 0.3));\n",
              "      fill: #FFFFFF;\n",
              "    }\n",
              "  </style>\n",
              "\n",
              "      <script>\n",
              "        const buttonEl =\n",
              "          document.querySelector('#df-13db4d5d-7d4b-4605-94a3-489275b15412 button.colab-df-convert');\n",
              "        buttonEl.style.display =\n",
              "          google.colab.kernel.accessAllowed ? 'block' : 'none';\n",
              "\n",
              "        async function convertToInteractive(key) {\n",
              "          const element = document.querySelector('#df-13db4d5d-7d4b-4605-94a3-489275b15412');\n",
              "          const dataTable =\n",
              "            await google.colab.kernel.invokeFunction('convertToInteractive',\n",
              "                                                     [key], {});\n",
              "          if (!dataTable) return;\n",
              "\n",
              "          const docLinkHtml = 'Like what you see? Visit the ' +\n",
              "            '<a target=\"_blank\" href=https://colab.research.google.com/notebooks/data_table.ipynb>data table notebook</a>'\n",
              "            + ' to learn more about interactive tables.';\n",
              "          element.innerHTML = '';\n",
              "          dataTable['output_type'] = 'display_data';\n",
              "          await google.colab.output.renderOutput(dataTable, element);\n",
              "          const docLink = document.createElement('div');\n",
              "          docLink.innerHTML = docLinkHtml;\n",
              "          element.appendChild(docLink);\n",
              "        }\n",
              "      </script>\n",
              "    </div>\n",
              "  </div>\n",
              "  "
            ],
            "text/plain": [
              "  C1   c2  c3  c4\n",
              "0  A  100  NY   1\n",
              "1  A  200  CA   1\n",
              "2  B  300  WA   2\n",
              "3  B  300  WA   2\n",
              "4  C  400  AK   3\n",
              "5  C  500  NV   3"
            ]
          },
          "metadata": {},
          "execution_count": 32
        }
      ]
    },
    {
      "cell_type": "markdown",
      "source": [
        "**Change sort order of the rows based on a different column:**"
      ],
      "metadata": {
        "id": "bnu1kAD9JzCR"
      }
    },
    {
      "cell_type": "code",
      "source": [
        "# Note this is not in-place destructive, you'd need to make an\n",
        "# Assignment to make this permanent.\n",
        "\n",
        "# Note that the index remains correct\n",
        "df_one.sort_values('c3')"
      ],
      "metadata": {
        "colab": {
          "base_uri": "https://localhost:8080/",
          "height": 238
        },
        "id": "QAlMl2nuJmoA",
        "outputId": "fc5f7cf3-f307-4da4-cf68-ea67e7fe7a35"
      },
      "execution_count": 37,
      "outputs": [
        {
          "output_type": "execute_result",
          "data": {
            "text/html": [
              "\n",
              "  <div id=\"df-d25bca84-9b54-4c8e-a144-cf6a48800986\">\n",
              "    <div class=\"colab-df-container\">\n",
              "      <div>\n",
              "<style scoped>\n",
              "    .dataframe tbody tr th:only-of-type {\n",
              "        vertical-align: middle;\n",
              "    }\n",
              "\n",
              "    .dataframe tbody tr th {\n",
              "        vertical-align: top;\n",
              "    }\n",
              "\n",
              "    .dataframe thead th {\n",
              "        text-align: right;\n",
              "    }\n",
              "</style>\n",
              "<table border=\"1\" class=\"dataframe\">\n",
              "  <thead>\n",
              "    <tr style=\"text-align: right;\">\n",
              "      <th></th>\n",
              "      <th>C1</th>\n",
              "      <th>c2</th>\n",
              "      <th>c3</th>\n",
              "      <th>c4</th>\n",
              "    </tr>\n",
              "  </thead>\n",
              "  <tbody>\n",
              "    <tr>\n",
              "      <th>4</th>\n",
              "      <td>C</td>\n",
              "      <td>400</td>\n",
              "      <td>AK</td>\n",
              "      <td>3</td>\n",
              "    </tr>\n",
              "    <tr>\n",
              "      <th>1</th>\n",
              "      <td>A</td>\n",
              "      <td>200</td>\n",
              "      <td>CA</td>\n",
              "      <td>1</td>\n",
              "    </tr>\n",
              "    <tr>\n",
              "      <th>5</th>\n",
              "      <td>C</td>\n",
              "      <td>500</td>\n",
              "      <td>NV</td>\n",
              "      <td>3</td>\n",
              "    </tr>\n",
              "    <tr>\n",
              "      <th>0</th>\n",
              "      <td>A</td>\n",
              "      <td>100</td>\n",
              "      <td>NY</td>\n",
              "      <td>1</td>\n",
              "    </tr>\n",
              "    <tr>\n",
              "      <th>2</th>\n",
              "      <td>B</td>\n",
              "      <td>300</td>\n",
              "      <td>WA</td>\n",
              "      <td>2</td>\n",
              "    </tr>\n",
              "    <tr>\n",
              "      <th>3</th>\n",
              "      <td>B</td>\n",
              "      <td>300</td>\n",
              "      <td>WA</td>\n",
              "      <td>2</td>\n",
              "    </tr>\n",
              "  </tbody>\n",
              "</table>\n",
              "</div>\n",
              "      <button class=\"colab-df-convert\" onclick=\"convertToInteractive('df-d25bca84-9b54-4c8e-a144-cf6a48800986')\"\n",
              "              title=\"Convert this dataframe to an interactive table.\"\n",
              "              style=\"display:none;\">\n",
              "        \n",
              "  <svg xmlns=\"http://www.w3.org/2000/svg\" height=\"24px\"viewBox=\"0 0 24 24\"\n",
              "       width=\"24px\">\n",
              "    <path d=\"M0 0h24v24H0V0z\" fill=\"none\"/>\n",
              "    <path d=\"M18.56 5.44l.94 2.06.94-2.06 2.06-.94-2.06-.94-.94-2.06-.94 2.06-2.06.94zm-11 1L8.5 8.5l.94-2.06 2.06-.94-2.06-.94L8.5 2.5l-.94 2.06-2.06.94zm10 10l.94 2.06.94-2.06 2.06-.94-2.06-.94-.94-2.06-.94 2.06-2.06.94z\"/><path d=\"M17.41 7.96l-1.37-1.37c-.4-.4-.92-.59-1.43-.59-.52 0-1.04.2-1.43.59L10.3 9.45l-7.72 7.72c-.78.78-.78 2.05 0 2.83L4 21.41c.39.39.9.59 1.41.59.51 0 1.02-.2 1.41-.59l7.78-7.78 2.81-2.81c.8-.78.8-2.07 0-2.86zM5.41 20L4 18.59l7.72-7.72 1.47 1.35L5.41 20z\"/>\n",
              "  </svg>\n",
              "      </button>\n",
              "      \n",
              "  <style>\n",
              "    .colab-df-container {\n",
              "      display:flex;\n",
              "      flex-wrap:wrap;\n",
              "      gap: 12px;\n",
              "    }\n",
              "\n",
              "    .colab-df-convert {\n",
              "      background-color: #E8F0FE;\n",
              "      border: none;\n",
              "      border-radius: 50%;\n",
              "      cursor: pointer;\n",
              "      display: none;\n",
              "      fill: #1967D2;\n",
              "      height: 32px;\n",
              "      padding: 0 0 0 0;\n",
              "      width: 32px;\n",
              "    }\n",
              "\n",
              "    .colab-df-convert:hover {\n",
              "      background-color: #E2EBFA;\n",
              "      box-shadow: 0px 1px 2px rgba(60, 64, 67, 0.3), 0px 1px 3px 1px rgba(60, 64, 67, 0.15);\n",
              "      fill: #174EA6;\n",
              "    }\n",
              "\n",
              "    [theme=dark] .colab-df-convert {\n",
              "      background-color: #3B4455;\n",
              "      fill: #D2E3FC;\n",
              "    }\n",
              "\n",
              "    [theme=dark] .colab-df-convert:hover {\n",
              "      background-color: #434B5C;\n",
              "      box-shadow: 0px 1px 3px 1px rgba(0, 0, 0, 0.15);\n",
              "      filter: drop-shadow(0px 1px 2px rgba(0, 0, 0, 0.3));\n",
              "      fill: #FFFFFF;\n",
              "    }\n",
              "  </style>\n",
              "\n",
              "      <script>\n",
              "        const buttonEl =\n",
              "          document.querySelector('#df-d25bca84-9b54-4c8e-a144-cf6a48800986 button.colab-df-convert');\n",
              "        buttonEl.style.display =\n",
              "          google.colab.kernel.accessAllowed ? 'block' : 'none';\n",
              "\n",
              "        async function convertToInteractive(key) {\n",
              "          const element = document.querySelector('#df-d25bca84-9b54-4c8e-a144-cf6a48800986');\n",
              "          const dataTable =\n",
              "            await google.colab.kernel.invokeFunction('convertToInteractive',\n",
              "                                                     [key], {});\n",
              "          if (!dataTable) return;\n",
              "\n",
              "          const docLinkHtml = 'Like what you see? Visit the ' +\n",
              "            '<a target=\"_blank\" href=https://colab.research.google.com/notebooks/data_table.ipynb>data table notebook</a>'\n",
              "            + ' to learn more about interactive tables.';\n",
              "          element.innerHTML = '';\n",
              "          dataTable['output_type'] = 'display_data';\n",
              "          await google.colab.output.renderOutput(dataTable, element);\n",
              "          const docLink = document.createElement('div');\n",
              "          docLink.innerHTML = docLinkHtml;\n",
              "          element.appendChild(docLink);\n",
              "        }\n",
              "      </script>\n",
              "    </div>\n",
              "  </div>\n",
              "  "
            ],
            "text/plain": [
              "  C1   c2  c3  c4\n",
              "4  C  400  AK   3\n",
              "1  A  200  CA   1\n",
              "5  C  500  NV   3\n",
              "0  A  100  NY   1\n",
              "2  B  300  WA   2\n",
              "3  B  300  WA   2"
            ]
          },
          "metadata": {},
          "execution_count": 37
        }
      ]
    },
    {
      "cell_type": "code",
      "source": [
        "# Could also make it descending\n",
        "df_one.sort_values('c3',ascending=False)"
      ],
      "metadata": {
        "colab": {
          "base_uri": "https://localhost:8080/",
          "height": 238
        },
        "id": "HeZb8OQuJ6Zs",
        "outputId": "cbac485e-e65e-485f-c034-c87148310c08"
      },
      "execution_count": 38,
      "outputs": [
        {
          "output_type": "execute_result",
          "data": {
            "text/html": [
              "\n",
              "  <div id=\"df-e23290c0-0d8e-49aa-88e1-1ab2625f6294\">\n",
              "    <div class=\"colab-df-container\">\n",
              "      <div>\n",
              "<style scoped>\n",
              "    .dataframe tbody tr th:only-of-type {\n",
              "        vertical-align: middle;\n",
              "    }\n",
              "\n",
              "    .dataframe tbody tr th {\n",
              "        vertical-align: top;\n",
              "    }\n",
              "\n",
              "    .dataframe thead th {\n",
              "        text-align: right;\n",
              "    }\n",
              "</style>\n",
              "<table border=\"1\" class=\"dataframe\">\n",
              "  <thead>\n",
              "    <tr style=\"text-align: right;\">\n",
              "      <th></th>\n",
              "      <th>C1</th>\n",
              "      <th>c2</th>\n",
              "      <th>c3</th>\n",
              "      <th>c4</th>\n",
              "    </tr>\n",
              "  </thead>\n",
              "  <tbody>\n",
              "    <tr>\n",
              "      <th>2</th>\n",
              "      <td>B</td>\n",
              "      <td>300</td>\n",
              "      <td>WA</td>\n",
              "      <td>2</td>\n",
              "    </tr>\n",
              "    <tr>\n",
              "      <th>3</th>\n",
              "      <td>B</td>\n",
              "      <td>300</td>\n",
              "      <td>WA</td>\n",
              "      <td>2</td>\n",
              "    </tr>\n",
              "    <tr>\n",
              "      <th>0</th>\n",
              "      <td>A</td>\n",
              "      <td>100</td>\n",
              "      <td>NY</td>\n",
              "      <td>1</td>\n",
              "    </tr>\n",
              "    <tr>\n",
              "      <th>5</th>\n",
              "      <td>C</td>\n",
              "      <td>500</td>\n",
              "      <td>NV</td>\n",
              "      <td>3</td>\n",
              "    </tr>\n",
              "    <tr>\n",
              "      <th>1</th>\n",
              "      <td>A</td>\n",
              "      <td>200</td>\n",
              "      <td>CA</td>\n",
              "      <td>1</td>\n",
              "    </tr>\n",
              "    <tr>\n",
              "      <th>4</th>\n",
              "      <td>C</td>\n",
              "      <td>400</td>\n",
              "      <td>AK</td>\n",
              "      <td>3</td>\n",
              "    </tr>\n",
              "  </tbody>\n",
              "</table>\n",
              "</div>\n",
              "      <button class=\"colab-df-convert\" onclick=\"convertToInteractive('df-e23290c0-0d8e-49aa-88e1-1ab2625f6294')\"\n",
              "              title=\"Convert this dataframe to an interactive table.\"\n",
              "              style=\"display:none;\">\n",
              "        \n",
              "  <svg xmlns=\"http://www.w3.org/2000/svg\" height=\"24px\"viewBox=\"0 0 24 24\"\n",
              "       width=\"24px\">\n",
              "    <path d=\"M0 0h24v24H0V0z\" fill=\"none\"/>\n",
              "    <path d=\"M18.56 5.44l.94 2.06.94-2.06 2.06-.94-2.06-.94-.94-2.06-.94 2.06-2.06.94zm-11 1L8.5 8.5l.94-2.06 2.06-.94-2.06-.94L8.5 2.5l-.94 2.06-2.06.94zm10 10l.94 2.06.94-2.06 2.06-.94-2.06-.94-.94-2.06-.94 2.06-2.06.94z\"/><path d=\"M17.41 7.96l-1.37-1.37c-.4-.4-.92-.59-1.43-.59-.52 0-1.04.2-1.43.59L10.3 9.45l-7.72 7.72c-.78.78-.78 2.05 0 2.83L4 21.41c.39.39.9.59 1.41.59.51 0 1.02-.2 1.41-.59l7.78-7.78 2.81-2.81c.8-.78.8-2.07 0-2.86zM5.41 20L4 18.59l7.72-7.72 1.47 1.35L5.41 20z\"/>\n",
              "  </svg>\n",
              "      </button>\n",
              "      \n",
              "  <style>\n",
              "    .colab-df-container {\n",
              "      display:flex;\n",
              "      flex-wrap:wrap;\n",
              "      gap: 12px;\n",
              "    }\n",
              "\n",
              "    .colab-df-convert {\n",
              "      background-color: #E8F0FE;\n",
              "      border: none;\n",
              "      border-radius: 50%;\n",
              "      cursor: pointer;\n",
              "      display: none;\n",
              "      fill: #1967D2;\n",
              "      height: 32px;\n",
              "      padding: 0 0 0 0;\n",
              "      width: 32px;\n",
              "    }\n",
              "\n",
              "    .colab-df-convert:hover {\n",
              "      background-color: #E2EBFA;\n",
              "      box-shadow: 0px 1px 2px rgba(60, 64, 67, 0.3), 0px 1px 3px 1px rgba(60, 64, 67, 0.15);\n",
              "      fill: #174EA6;\n",
              "    }\n",
              "\n",
              "    [theme=dark] .colab-df-convert {\n",
              "      background-color: #3B4455;\n",
              "      fill: #D2E3FC;\n",
              "    }\n",
              "\n",
              "    [theme=dark] .colab-df-convert:hover {\n",
              "      background-color: #434B5C;\n",
              "      box-shadow: 0px 1px 3px 1px rgba(0, 0, 0, 0.15);\n",
              "      filter: drop-shadow(0px 1px 2px rgba(0, 0, 0, 0.3));\n",
              "      fill: #FFFFFF;\n",
              "    }\n",
              "  </style>\n",
              "\n",
              "      <script>\n",
              "        const buttonEl =\n",
              "          document.querySelector('#df-e23290c0-0d8e-49aa-88e1-1ab2625f6294 button.colab-df-convert');\n",
              "        buttonEl.style.display =\n",
              "          google.colab.kernel.accessAllowed ? 'block' : 'none';\n",
              "\n",
              "        async function convertToInteractive(key) {\n",
              "          const element = document.querySelector('#df-e23290c0-0d8e-49aa-88e1-1ab2625f6294');\n",
              "          const dataTable =\n",
              "            await google.colab.kernel.invokeFunction('convertToInteractive',\n",
              "                                                     [key], {});\n",
              "          if (!dataTable) return;\n",
              "\n",
              "          const docLinkHtml = 'Like what you see? Visit the ' +\n",
              "            '<a target=\"_blank\" href=https://colab.research.google.com/notebooks/data_table.ipynb>data table notebook</a>'\n",
              "            + ' to learn more about interactive tables.';\n",
              "          element.innerHTML = '';\n",
              "          dataTable['output_type'] = 'display_data';\n",
              "          await google.colab.output.renderOutput(dataTable, element);\n",
              "          const docLink = document.createElement('div');\n",
              "          docLink.innerHTML = docLinkHtml;\n",
              "          element.appendChild(docLink);\n",
              "        }\n",
              "      </script>\n",
              "    </div>\n",
              "  </div>\n",
              "  "
            ],
            "text/plain": [
              "  C1   c2  c3  c4\n",
              "2  B  300  WA   2\n",
              "3  B  300  WA   2\n",
              "0  A  100  NY   1\n",
              "5  C  500  NV   3\n",
              "1  A  200  CA   1\n",
              "4  C  400  AK   3"
            ]
          },
          "metadata": {},
          "execution_count": 38
        }
      ]
    },
    {
      "cell_type": "markdown",
      "source": [
        "**You can concatenate dataframes thus:**"
      ],
      "metadata": {
        "id": "nxyIA1vCKVvh"
      }
    },
    {
      "cell_type": "code",
      "source": [
        "# Create some data to play with:\n",
        "features = pd.DataFrame({'A':[100,200,300,400,500],\n",
        "                         'B':[12,13,14,15,16]})\n",
        "predictions=pd.DataFrame({'pred':[0,1,1,0,1]})\n"
      ],
      "metadata": {
        "id": "WoUp2_G4KRl0"
      },
      "execution_count": 39,
      "outputs": []
    },
    {
      "cell_type": "code",
      "source": [
        "features"
      ],
      "metadata": {
        "colab": {
          "base_uri": "https://localhost:8080/",
          "height": 206
        },
        "id": "M5Vo5kV3K6Wf",
        "outputId": "4cbb6620-3ebc-4e18-8f90-b0764f4568bc"
      },
      "execution_count": 40,
      "outputs": [
        {
          "output_type": "execute_result",
          "data": {
            "text/html": [
              "\n",
              "  <div id=\"df-b4260e20-2047-43d1-94b8-a0e43d60978c\">\n",
              "    <div class=\"colab-df-container\">\n",
              "      <div>\n",
              "<style scoped>\n",
              "    .dataframe tbody tr th:only-of-type {\n",
              "        vertical-align: middle;\n",
              "    }\n",
              "\n",
              "    .dataframe tbody tr th {\n",
              "        vertical-align: top;\n",
              "    }\n",
              "\n",
              "    .dataframe thead th {\n",
              "        text-align: right;\n",
              "    }\n",
              "</style>\n",
              "<table border=\"1\" class=\"dataframe\">\n",
              "  <thead>\n",
              "    <tr style=\"text-align: right;\">\n",
              "      <th></th>\n",
              "      <th>A</th>\n",
              "      <th>B</th>\n",
              "    </tr>\n",
              "  </thead>\n",
              "  <tbody>\n",
              "    <tr>\n",
              "      <th>0</th>\n",
              "      <td>100</td>\n",
              "      <td>12</td>\n",
              "    </tr>\n",
              "    <tr>\n",
              "      <th>1</th>\n",
              "      <td>200</td>\n",
              "      <td>13</td>\n",
              "    </tr>\n",
              "    <tr>\n",
              "      <th>2</th>\n",
              "      <td>300</td>\n",
              "      <td>14</td>\n",
              "    </tr>\n",
              "    <tr>\n",
              "      <th>3</th>\n",
              "      <td>400</td>\n",
              "      <td>15</td>\n",
              "    </tr>\n",
              "    <tr>\n",
              "      <th>4</th>\n",
              "      <td>500</td>\n",
              "      <td>16</td>\n",
              "    </tr>\n",
              "  </tbody>\n",
              "</table>\n",
              "</div>\n",
              "      <button class=\"colab-df-convert\" onclick=\"convertToInteractive('df-b4260e20-2047-43d1-94b8-a0e43d60978c')\"\n",
              "              title=\"Convert this dataframe to an interactive table.\"\n",
              "              style=\"display:none;\">\n",
              "        \n",
              "  <svg xmlns=\"http://www.w3.org/2000/svg\" height=\"24px\"viewBox=\"0 0 24 24\"\n",
              "       width=\"24px\">\n",
              "    <path d=\"M0 0h24v24H0V0z\" fill=\"none\"/>\n",
              "    <path d=\"M18.56 5.44l.94 2.06.94-2.06 2.06-.94-2.06-.94-.94-2.06-.94 2.06-2.06.94zm-11 1L8.5 8.5l.94-2.06 2.06-.94-2.06-.94L8.5 2.5l-.94 2.06-2.06.94zm10 10l.94 2.06.94-2.06 2.06-.94-2.06-.94-.94-2.06-.94 2.06-2.06.94z\"/><path d=\"M17.41 7.96l-1.37-1.37c-.4-.4-.92-.59-1.43-.59-.52 0-1.04.2-1.43.59L10.3 9.45l-7.72 7.72c-.78.78-.78 2.05 0 2.83L4 21.41c.39.39.9.59 1.41.59.51 0 1.02-.2 1.41-.59l7.78-7.78 2.81-2.81c.8-.78.8-2.07 0-2.86zM5.41 20L4 18.59l7.72-7.72 1.47 1.35L5.41 20z\"/>\n",
              "  </svg>\n",
              "      </button>\n",
              "      \n",
              "  <style>\n",
              "    .colab-df-container {\n",
              "      display:flex;\n",
              "      flex-wrap:wrap;\n",
              "      gap: 12px;\n",
              "    }\n",
              "\n",
              "    .colab-df-convert {\n",
              "      background-color: #E8F0FE;\n",
              "      border: none;\n",
              "      border-radius: 50%;\n",
              "      cursor: pointer;\n",
              "      display: none;\n",
              "      fill: #1967D2;\n",
              "      height: 32px;\n",
              "      padding: 0 0 0 0;\n",
              "      width: 32px;\n",
              "    }\n",
              "\n",
              "    .colab-df-convert:hover {\n",
              "      background-color: #E2EBFA;\n",
              "      box-shadow: 0px 1px 2px rgba(60, 64, 67, 0.3), 0px 1px 3px 1px rgba(60, 64, 67, 0.15);\n",
              "      fill: #174EA6;\n",
              "    }\n",
              "\n",
              "    [theme=dark] .colab-df-convert {\n",
              "      background-color: #3B4455;\n",
              "      fill: #D2E3FC;\n",
              "    }\n",
              "\n",
              "    [theme=dark] .colab-df-convert:hover {\n",
              "      background-color: #434B5C;\n",
              "      box-shadow: 0px 1px 3px 1px rgba(0, 0, 0, 0.15);\n",
              "      filter: drop-shadow(0px 1px 2px rgba(0, 0, 0, 0.3));\n",
              "      fill: #FFFFFF;\n",
              "    }\n",
              "  </style>\n",
              "\n",
              "      <script>\n",
              "        const buttonEl =\n",
              "          document.querySelector('#df-b4260e20-2047-43d1-94b8-a0e43d60978c button.colab-df-convert');\n",
              "        buttonEl.style.display =\n",
              "          google.colab.kernel.accessAllowed ? 'block' : 'none';\n",
              "\n",
              "        async function convertToInteractive(key) {\n",
              "          const element = document.querySelector('#df-b4260e20-2047-43d1-94b8-a0e43d60978c');\n",
              "          const dataTable =\n",
              "            await google.colab.kernel.invokeFunction('convertToInteractive',\n",
              "                                                     [key], {});\n",
              "          if (!dataTable) return;\n",
              "\n",
              "          const docLinkHtml = 'Like what you see? Visit the ' +\n",
              "            '<a target=\"_blank\" href=https://colab.research.google.com/notebooks/data_table.ipynb>data table notebook</a>'\n",
              "            + ' to learn more about interactive tables.';\n",
              "          element.innerHTML = '';\n",
              "          dataTable['output_type'] = 'display_data';\n",
              "          await google.colab.output.renderOutput(dataTable, element);\n",
              "          const docLink = document.createElement('div');\n",
              "          docLink.innerHTML = docLinkHtml;\n",
              "          element.appendChild(docLink);\n",
              "        }\n",
              "      </script>\n",
              "    </div>\n",
              "  </div>\n",
              "  "
            ],
            "text/plain": [
              "     A   B\n",
              "0  100  12\n",
              "1  200  13\n",
              "2  300  14\n",
              "3  400  15\n",
              "4  500  16"
            ]
          },
          "metadata": {},
          "execution_count": 40
        }
      ]
    },
    {
      "cell_type": "code",
      "source": [
        "predictions"
      ],
      "metadata": {
        "colab": {
          "base_uri": "https://localhost:8080/",
          "height": 206
        },
        "id": "pD0VKoIJK9sE",
        "outputId": "42728922-4b70-4945-ef66-b5dddcdb9227"
      },
      "execution_count": 41,
      "outputs": [
        {
          "output_type": "execute_result",
          "data": {
            "text/html": [
              "\n",
              "  <div id=\"df-c7600f4f-6dae-4844-8ab2-aff1b65a20a8\">\n",
              "    <div class=\"colab-df-container\">\n",
              "      <div>\n",
              "<style scoped>\n",
              "    .dataframe tbody tr th:only-of-type {\n",
              "        vertical-align: middle;\n",
              "    }\n",
              "\n",
              "    .dataframe tbody tr th {\n",
              "        vertical-align: top;\n",
              "    }\n",
              "\n",
              "    .dataframe thead th {\n",
              "        text-align: right;\n",
              "    }\n",
              "</style>\n",
              "<table border=\"1\" class=\"dataframe\">\n",
              "  <thead>\n",
              "    <tr style=\"text-align: right;\">\n",
              "      <th></th>\n",
              "      <th>pred</th>\n",
              "    </tr>\n",
              "  </thead>\n",
              "  <tbody>\n",
              "    <tr>\n",
              "      <th>0</th>\n",
              "      <td>0</td>\n",
              "    </tr>\n",
              "    <tr>\n",
              "      <th>1</th>\n",
              "      <td>1</td>\n",
              "    </tr>\n",
              "    <tr>\n",
              "      <th>2</th>\n",
              "      <td>1</td>\n",
              "    </tr>\n",
              "    <tr>\n",
              "      <th>3</th>\n",
              "      <td>0</td>\n",
              "    </tr>\n",
              "    <tr>\n",
              "      <th>4</th>\n",
              "      <td>1</td>\n",
              "    </tr>\n",
              "  </tbody>\n",
              "</table>\n",
              "</div>\n",
              "      <button class=\"colab-df-convert\" onclick=\"convertToInteractive('df-c7600f4f-6dae-4844-8ab2-aff1b65a20a8')\"\n",
              "              title=\"Convert this dataframe to an interactive table.\"\n",
              "              style=\"display:none;\">\n",
              "        \n",
              "  <svg xmlns=\"http://www.w3.org/2000/svg\" height=\"24px\"viewBox=\"0 0 24 24\"\n",
              "       width=\"24px\">\n",
              "    <path d=\"M0 0h24v24H0V0z\" fill=\"none\"/>\n",
              "    <path d=\"M18.56 5.44l.94 2.06.94-2.06 2.06-.94-2.06-.94-.94-2.06-.94 2.06-2.06.94zm-11 1L8.5 8.5l.94-2.06 2.06-.94-2.06-.94L8.5 2.5l-.94 2.06-2.06.94zm10 10l.94 2.06.94-2.06 2.06-.94-2.06-.94-.94-2.06-.94 2.06-2.06.94z\"/><path d=\"M17.41 7.96l-1.37-1.37c-.4-.4-.92-.59-1.43-.59-.52 0-1.04.2-1.43.59L10.3 9.45l-7.72 7.72c-.78.78-.78 2.05 0 2.83L4 21.41c.39.39.9.59 1.41.59.51 0 1.02-.2 1.41-.59l7.78-7.78 2.81-2.81c.8-.78.8-2.07 0-2.86zM5.41 20L4 18.59l7.72-7.72 1.47 1.35L5.41 20z\"/>\n",
              "  </svg>\n",
              "      </button>\n",
              "      \n",
              "  <style>\n",
              "    .colab-df-container {\n",
              "      display:flex;\n",
              "      flex-wrap:wrap;\n",
              "      gap: 12px;\n",
              "    }\n",
              "\n",
              "    .colab-df-convert {\n",
              "      background-color: #E8F0FE;\n",
              "      border: none;\n",
              "      border-radius: 50%;\n",
              "      cursor: pointer;\n",
              "      display: none;\n",
              "      fill: #1967D2;\n",
              "      height: 32px;\n",
              "      padding: 0 0 0 0;\n",
              "      width: 32px;\n",
              "    }\n",
              "\n",
              "    .colab-df-convert:hover {\n",
              "      background-color: #E2EBFA;\n",
              "      box-shadow: 0px 1px 2px rgba(60, 64, 67, 0.3), 0px 1px 3px 1px rgba(60, 64, 67, 0.15);\n",
              "      fill: #174EA6;\n",
              "    }\n",
              "\n",
              "    [theme=dark] .colab-df-convert {\n",
              "      background-color: #3B4455;\n",
              "      fill: #D2E3FC;\n",
              "    }\n",
              "\n",
              "    [theme=dark] .colab-df-convert:hover {\n",
              "      background-color: #434B5C;\n",
              "      box-shadow: 0px 1px 3px 1px rgba(0, 0, 0, 0.15);\n",
              "      filter: drop-shadow(0px 1px 2px rgba(0, 0, 0, 0.3));\n",
              "      fill: #FFFFFF;\n",
              "    }\n",
              "  </style>\n",
              "\n",
              "      <script>\n",
              "        const buttonEl =\n",
              "          document.querySelector('#df-c7600f4f-6dae-4844-8ab2-aff1b65a20a8 button.colab-df-convert');\n",
              "        buttonEl.style.display =\n",
              "          google.colab.kernel.accessAllowed ? 'block' : 'none';\n",
              "\n",
              "        async function convertToInteractive(key) {\n",
              "          const element = document.querySelector('#df-c7600f4f-6dae-4844-8ab2-aff1b65a20a8');\n",
              "          const dataTable =\n",
              "            await google.colab.kernel.invokeFunction('convertToInteractive',\n",
              "                                                     [key], {});\n",
              "          if (!dataTable) return;\n",
              "\n",
              "          const docLinkHtml = 'Like what you see? Visit the ' +\n",
              "            '<a target=\"_blank\" href=https://colab.research.google.com/notebooks/data_table.ipynb>data table notebook</a>'\n",
              "            + ' to learn more about interactive tables.';\n",
              "          element.innerHTML = '';\n",
              "          dataTable['output_type'] = 'display_data';\n",
              "          await google.colab.output.renderOutput(dataTable, element);\n",
              "          const docLink = document.createElement('div');\n",
              "          docLink.innerHTML = docLinkHtml;\n",
              "          element.appendChild(docLink);\n",
              "        }\n",
              "      </script>\n",
              "    </div>\n",
              "  </div>\n",
              "  "
            ],
            "text/plain": [
              "   pred\n",
              "0     0\n",
              "1     1\n",
              "2     1\n",
              "3     0\n",
              "4     1"
            ]
          },
          "metadata": {},
          "execution_count": 41
        }
      ]
    },
    {
      "cell_type": "code",
      "source": [
        "# Now if we want to concatenate the features with the predictions:\n",
        "pd.concat([features,predictions],axis=1)\n",
        "\n",
        "# Note that you had to do axis=1 b/c the default is to concatenate rows\n",
        "# (put first row of predictions immediately after the last row of features, which\n",
        "# isn't what you want)."
      ],
      "metadata": {
        "colab": {
          "base_uri": "https://localhost:8080/",
          "height": 206
        },
        "id": "AfsDlNzCLACj",
        "outputId": "b05736c3-8351-4f07-82c0-96928f28a2e5"
      },
      "execution_count": 43,
      "outputs": [
        {
          "output_type": "execute_result",
          "data": {
            "text/html": [
              "\n",
              "  <div id=\"df-76a6677d-8c1b-46c5-aa3b-174263a179ad\">\n",
              "    <div class=\"colab-df-container\">\n",
              "      <div>\n",
              "<style scoped>\n",
              "    .dataframe tbody tr th:only-of-type {\n",
              "        vertical-align: middle;\n",
              "    }\n",
              "\n",
              "    .dataframe tbody tr th {\n",
              "        vertical-align: top;\n",
              "    }\n",
              "\n",
              "    .dataframe thead th {\n",
              "        text-align: right;\n",
              "    }\n",
              "</style>\n",
              "<table border=\"1\" class=\"dataframe\">\n",
              "  <thead>\n",
              "    <tr style=\"text-align: right;\">\n",
              "      <th></th>\n",
              "      <th>A</th>\n",
              "      <th>B</th>\n",
              "      <th>pred</th>\n",
              "    </tr>\n",
              "  </thead>\n",
              "  <tbody>\n",
              "    <tr>\n",
              "      <th>0</th>\n",
              "      <td>100</td>\n",
              "      <td>12</td>\n",
              "      <td>0</td>\n",
              "    </tr>\n",
              "    <tr>\n",
              "      <th>1</th>\n",
              "      <td>200</td>\n",
              "      <td>13</td>\n",
              "      <td>1</td>\n",
              "    </tr>\n",
              "    <tr>\n",
              "      <th>2</th>\n",
              "      <td>300</td>\n",
              "      <td>14</td>\n",
              "      <td>1</td>\n",
              "    </tr>\n",
              "    <tr>\n",
              "      <th>3</th>\n",
              "      <td>400</td>\n",
              "      <td>15</td>\n",
              "      <td>0</td>\n",
              "    </tr>\n",
              "    <tr>\n",
              "      <th>4</th>\n",
              "      <td>500</td>\n",
              "      <td>16</td>\n",
              "      <td>1</td>\n",
              "    </tr>\n",
              "  </tbody>\n",
              "</table>\n",
              "</div>\n",
              "      <button class=\"colab-df-convert\" onclick=\"convertToInteractive('df-76a6677d-8c1b-46c5-aa3b-174263a179ad')\"\n",
              "              title=\"Convert this dataframe to an interactive table.\"\n",
              "              style=\"display:none;\">\n",
              "        \n",
              "  <svg xmlns=\"http://www.w3.org/2000/svg\" height=\"24px\"viewBox=\"0 0 24 24\"\n",
              "       width=\"24px\">\n",
              "    <path d=\"M0 0h24v24H0V0z\" fill=\"none\"/>\n",
              "    <path d=\"M18.56 5.44l.94 2.06.94-2.06 2.06-.94-2.06-.94-.94-2.06-.94 2.06-2.06.94zm-11 1L8.5 8.5l.94-2.06 2.06-.94-2.06-.94L8.5 2.5l-.94 2.06-2.06.94zm10 10l.94 2.06.94-2.06 2.06-.94-2.06-.94-.94-2.06-.94 2.06-2.06.94z\"/><path d=\"M17.41 7.96l-1.37-1.37c-.4-.4-.92-.59-1.43-.59-.52 0-1.04.2-1.43.59L10.3 9.45l-7.72 7.72c-.78.78-.78 2.05 0 2.83L4 21.41c.39.39.9.59 1.41.59.51 0 1.02-.2 1.41-.59l7.78-7.78 2.81-2.81c.8-.78.8-2.07 0-2.86zM5.41 20L4 18.59l7.72-7.72 1.47 1.35L5.41 20z\"/>\n",
              "  </svg>\n",
              "      </button>\n",
              "      \n",
              "  <style>\n",
              "    .colab-df-container {\n",
              "      display:flex;\n",
              "      flex-wrap:wrap;\n",
              "      gap: 12px;\n",
              "    }\n",
              "\n",
              "    .colab-df-convert {\n",
              "      background-color: #E8F0FE;\n",
              "      border: none;\n",
              "      border-radius: 50%;\n",
              "      cursor: pointer;\n",
              "      display: none;\n",
              "      fill: #1967D2;\n",
              "      height: 32px;\n",
              "      padding: 0 0 0 0;\n",
              "      width: 32px;\n",
              "    }\n",
              "\n",
              "    .colab-df-convert:hover {\n",
              "      background-color: #E2EBFA;\n",
              "      box-shadow: 0px 1px 2px rgba(60, 64, 67, 0.3), 0px 1px 3px 1px rgba(60, 64, 67, 0.15);\n",
              "      fill: #174EA6;\n",
              "    }\n",
              "\n",
              "    [theme=dark] .colab-df-convert {\n",
              "      background-color: #3B4455;\n",
              "      fill: #D2E3FC;\n",
              "    }\n",
              "\n",
              "    [theme=dark] .colab-df-convert:hover {\n",
              "      background-color: #434B5C;\n",
              "      box-shadow: 0px 1px 3px 1px rgba(0, 0, 0, 0.15);\n",
              "      filter: drop-shadow(0px 1px 2px rgba(0, 0, 0, 0.3));\n",
              "      fill: #FFFFFF;\n",
              "    }\n",
              "  </style>\n",
              "\n",
              "      <script>\n",
              "        const buttonEl =\n",
              "          document.querySelector('#df-76a6677d-8c1b-46c5-aa3b-174263a179ad button.colab-df-convert');\n",
              "        buttonEl.style.display =\n",
              "          google.colab.kernel.accessAllowed ? 'block' : 'none';\n",
              "\n",
              "        async function convertToInteractive(key) {\n",
              "          const element = document.querySelector('#df-76a6677d-8c1b-46c5-aa3b-174263a179ad');\n",
              "          const dataTable =\n",
              "            await google.colab.kernel.invokeFunction('convertToInteractive',\n",
              "                                                     [key], {});\n",
              "          if (!dataTable) return;\n",
              "\n",
              "          const docLinkHtml = 'Like what you see? Visit the ' +\n",
              "            '<a target=\"_blank\" href=https://colab.research.google.com/notebooks/data_table.ipynb>data table notebook</a>'\n",
              "            + ' to learn more about interactive tables.';\n",
              "          element.innerHTML = '';\n",
              "          dataTable['output_type'] = 'display_data';\n",
              "          await google.colab.output.renderOutput(dataTable, element);\n",
              "          const docLink = document.createElement('div');\n",
              "          docLink.innerHTML = docLinkHtml;\n",
              "          element.appendChild(docLink);\n",
              "        }\n",
              "      </script>\n",
              "    </div>\n",
              "  </div>\n",
              "  "
            ],
            "text/plain": [
              "     A   B  pred\n",
              "0  100  12     0\n",
              "1  200  13     1\n",
              "2  300  14     1\n",
              "3  400  15     0\n",
              "4  500  16     1"
            ]
          },
          "metadata": {},
          "execution_count": 43
        }
      ]
    },
    {
      "cell_type": "code",
      "source": [
        "pd"
      ],
      "metadata": {
        "colab": {
          "base_uri": "https://localhost:8080/"
        },
        "id": "OfFBh5XvLN7R",
        "outputId": "2528941f-0704-4316-ba14-fde2688621cb"
      },
      "execution_count": 44,
      "outputs": [
        {
          "output_type": "execute_result",
          "data": {
            "text/plain": [
              "<module 'pandas' from '/usr/local/lib/python3.7/dist-packages/pandas/__init__.py'>"
            ]
          },
          "metadata": {},
          "execution_count": 44
        }
      ]
    },
    {
      "cell_type": "markdown",
      "source": [
        "**To Create dummy variables**"
      ],
      "metadata": {
        "id": "A9tQ2j1rL1fc"
      }
    },
    {
      "cell_type": "code",
      "source": [
        "df_one"
      ],
      "metadata": {
        "colab": {
          "base_uri": "https://localhost:8080/",
          "height": 238
        },
        "id": "ay6-iiS-LgrO",
        "outputId": "93784cad-27f6-4be9-d513-2d45ff257ac4"
      },
      "execution_count": 47,
      "outputs": [
        {
          "output_type": "execute_result",
          "data": {
            "text/html": [
              "\n",
              "  <div id=\"df-2de797b4-bfbc-4651-a058-4cb07991d2be\">\n",
              "    <div class=\"colab-df-container\">\n",
              "      <div>\n",
              "<style scoped>\n",
              "    .dataframe tbody tr th:only-of-type {\n",
              "        vertical-align: middle;\n",
              "    }\n",
              "\n",
              "    .dataframe tbody tr th {\n",
              "        vertical-align: top;\n",
              "    }\n",
              "\n",
              "    .dataframe thead th {\n",
              "        text-align: right;\n",
              "    }\n",
              "</style>\n",
              "<table border=\"1\" class=\"dataframe\">\n",
              "  <thead>\n",
              "    <tr style=\"text-align: right;\">\n",
              "      <th></th>\n",
              "      <th>C1</th>\n",
              "      <th>c2</th>\n",
              "      <th>c3</th>\n",
              "      <th>c4</th>\n",
              "    </tr>\n",
              "  </thead>\n",
              "  <tbody>\n",
              "    <tr>\n",
              "      <th>0</th>\n",
              "      <td>A</td>\n",
              "      <td>100</td>\n",
              "      <td>NY</td>\n",
              "      <td>1</td>\n",
              "    </tr>\n",
              "    <tr>\n",
              "      <th>1</th>\n",
              "      <td>A</td>\n",
              "      <td>200</td>\n",
              "      <td>CA</td>\n",
              "      <td>1</td>\n",
              "    </tr>\n",
              "    <tr>\n",
              "      <th>2</th>\n",
              "      <td>B</td>\n",
              "      <td>300</td>\n",
              "      <td>WA</td>\n",
              "      <td>2</td>\n",
              "    </tr>\n",
              "    <tr>\n",
              "      <th>3</th>\n",
              "      <td>B</td>\n",
              "      <td>300</td>\n",
              "      <td>WA</td>\n",
              "      <td>2</td>\n",
              "    </tr>\n",
              "    <tr>\n",
              "      <th>4</th>\n",
              "      <td>C</td>\n",
              "      <td>400</td>\n",
              "      <td>AK</td>\n",
              "      <td>3</td>\n",
              "    </tr>\n",
              "    <tr>\n",
              "      <th>5</th>\n",
              "      <td>C</td>\n",
              "      <td>500</td>\n",
              "      <td>NV</td>\n",
              "      <td>3</td>\n",
              "    </tr>\n",
              "  </tbody>\n",
              "</table>\n",
              "</div>\n",
              "      <button class=\"colab-df-convert\" onclick=\"convertToInteractive('df-2de797b4-bfbc-4651-a058-4cb07991d2be')\"\n",
              "              title=\"Convert this dataframe to an interactive table.\"\n",
              "              style=\"display:none;\">\n",
              "        \n",
              "  <svg xmlns=\"http://www.w3.org/2000/svg\" height=\"24px\"viewBox=\"0 0 24 24\"\n",
              "       width=\"24px\">\n",
              "    <path d=\"M0 0h24v24H0V0z\" fill=\"none\"/>\n",
              "    <path d=\"M18.56 5.44l.94 2.06.94-2.06 2.06-.94-2.06-.94-.94-2.06-.94 2.06-2.06.94zm-11 1L8.5 8.5l.94-2.06 2.06-.94-2.06-.94L8.5 2.5l-.94 2.06-2.06.94zm10 10l.94 2.06.94-2.06 2.06-.94-2.06-.94-.94-2.06-.94 2.06-2.06.94z\"/><path d=\"M17.41 7.96l-1.37-1.37c-.4-.4-.92-.59-1.43-.59-.52 0-1.04.2-1.43.59L10.3 9.45l-7.72 7.72c-.78.78-.78 2.05 0 2.83L4 21.41c.39.39.9.59 1.41.59.51 0 1.02-.2 1.41-.59l7.78-7.78 2.81-2.81c.8-.78.8-2.07 0-2.86zM5.41 20L4 18.59l7.72-7.72 1.47 1.35L5.41 20z\"/>\n",
              "  </svg>\n",
              "      </button>\n",
              "      \n",
              "  <style>\n",
              "    .colab-df-container {\n",
              "      display:flex;\n",
              "      flex-wrap:wrap;\n",
              "      gap: 12px;\n",
              "    }\n",
              "\n",
              "    .colab-df-convert {\n",
              "      background-color: #E8F0FE;\n",
              "      border: none;\n",
              "      border-radius: 50%;\n",
              "      cursor: pointer;\n",
              "      display: none;\n",
              "      fill: #1967D2;\n",
              "      height: 32px;\n",
              "      padding: 0 0 0 0;\n",
              "      width: 32px;\n",
              "    }\n",
              "\n",
              "    .colab-df-convert:hover {\n",
              "      background-color: #E2EBFA;\n",
              "      box-shadow: 0px 1px 2px rgba(60, 64, 67, 0.3), 0px 1px 3px 1px rgba(60, 64, 67, 0.15);\n",
              "      fill: #174EA6;\n",
              "    }\n",
              "\n",
              "    [theme=dark] .colab-df-convert {\n",
              "      background-color: #3B4455;\n",
              "      fill: #D2E3FC;\n",
              "    }\n",
              "\n",
              "    [theme=dark] .colab-df-convert:hover {\n",
              "      background-color: #434B5C;\n",
              "      box-shadow: 0px 1px 3px 1px rgba(0, 0, 0, 0.15);\n",
              "      filter: drop-shadow(0px 1px 2px rgba(0, 0, 0, 0.3));\n",
              "      fill: #FFFFFF;\n",
              "    }\n",
              "  </style>\n",
              "\n",
              "      <script>\n",
              "        const buttonEl =\n",
              "          document.querySelector('#df-2de797b4-bfbc-4651-a058-4cb07991d2be button.colab-df-convert');\n",
              "        buttonEl.style.display =\n",
              "          google.colab.kernel.accessAllowed ? 'block' : 'none';\n",
              "\n",
              "        async function convertToInteractive(key) {\n",
              "          const element = document.querySelector('#df-2de797b4-bfbc-4651-a058-4cb07991d2be');\n",
              "          const dataTable =\n",
              "            await google.colab.kernel.invokeFunction('convertToInteractive',\n",
              "                                                     [key], {});\n",
              "          if (!dataTable) return;\n",
              "\n",
              "          const docLinkHtml = 'Like what you see? Visit the ' +\n",
              "            '<a target=\"_blank\" href=https://colab.research.google.com/notebooks/data_table.ipynb>data table notebook</a>'\n",
              "            + ' to learn more about interactive tables.';\n",
              "          element.innerHTML = '';\n",
              "          dataTable['output_type'] = 'display_data';\n",
              "          await google.colab.output.renderOutput(dataTable, element);\n",
              "          const docLink = document.createElement('div');\n",
              "          docLink.innerHTML = docLinkHtml;\n",
              "          element.appendChild(docLink);\n",
              "        }\n",
              "      </script>\n",
              "    </div>\n",
              "  </div>\n",
              "  "
            ],
            "text/plain": [
              "  C1   c2  c3  c4\n",
              "0  A  100  NY   1\n",
              "1  A  200  CA   1\n",
              "2  B  300  WA   2\n",
              "3  B  300  WA   2\n",
              "4  C  400  AK   3\n",
              "5  C  500  NV   3"
            ]
          },
          "metadata": {},
          "execution_count": 47
        }
      ]
    },
    {
      "cell_type": "code",
      "source": [
        "# It is helpful (not sure why yet) to create the one-hop encoding\n",
        "# which creates a table where the columns are the different categories\n",
        "# in the named columns, and in each row, there's a 1 in the relevant\n",
        "# column if that row is in that category, a 0 otherwise:\n",
        "pd.get_dummies(df_one['C1'])"
      ],
      "metadata": {
        "colab": {
          "base_uri": "https://localhost:8080/",
          "height": 238
        },
        "id": "bshCkJOiLoN5",
        "outputId": "2e3fd6f2-2761-4f4a-de04-8fdce3ab8d97"
      },
      "execution_count": 50,
      "outputs": [
        {
          "output_type": "execute_result",
          "data": {
            "text/html": [
              "\n",
              "  <div id=\"df-871bc726-309a-4adc-9aa2-53b1605e1f64\">\n",
              "    <div class=\"colab-df-container\">\n",
              "      <div>\n",
              "<style scoped>\n",
              "    .dataframe tbody tr th:only-of-type {\n",
              "        vertical-align: middle;\n",
              "    }\n",
              "\n",
              "    .dataframe tbody tr th {\n",
              "        vertical-align: top;\n",
              "    }\n",
              "\n",
              "    .dataframe thead th {\n",
              "        text-align: right;\n",
              "    }\n",
              "</style>\n",
              "<table border=\"1\" class=\"dataframe\">\n",
              "  <thead>\n",
              "    <tr style=\"text-align: right;\">\n",
              "      <th></th>\n",
              "      <th>A</th>\n",
              "      <th>B</th>\n",
              "      <th>C</th>\n",
              "    </tr>\n",
              "  </thead>\n",
              "  <tbody>\n",
              "    <tr>\n",
              "      <th>0</th>\n",
              "      <td>1</td>\n",
              "      <td>0</td>\n",
              "      <td>0</td>\n",
              "    </tr>\n",
              "    <tr>\n",
              "      <th>1</th>\n",
              "      <td>1</td>\n",
              "      <td>0</td>\n",
              "      <td>0</td>\n",
              "    </tr>\n",
              "    <tr>\n",
              "      <th>2</th>\n",
              "      <td>0</td>\n",
              "      <td>1</td>\n",
              "      <td>0</td>\n",
              "    </tr>\n",
              "    <tr>\n",
              "      <th>3</th>\n",
              "      <td>0</td>\n",
              "      <td>1</td>\n",
              "      <td>0</td>\n",
              "    </tr>\n",
              "    <tr>\n",
              "      <th>4</th>\n",
              "      <td>0</td>\n",
              "      <td>0</td>\n",
              "      <td>1</td>\n",
              "    </tr>\n",
              "    <tr>\n",
              "      <th>5</th>\n",
              "      <td>0</td>\n",
              "      <td>0</td>\n",
              "      <td>1</td>\n",
              "    </tr>\n",
              "  </tbody>\n",
              "</table>\n",
              "</div>\n",
              "      <button class=\"colab-df-convert\" onclick=\"convertToInteractive('df-871bc726-309a-4adc-9aa2-53b1605e1f64')\"\n",
              "              title=\"Convert this dataframe to an interactive table.\"\n",
              "              style=\"display:none;\">\n",
              "        \n",
              "  <svg xmlns=\"http://www.w3.org/2000/svg\" height=\"24px\"viewBox=\"0 0 24 24\"\n",
              "       width=\"24px\">\n",
              "    <path d=\"M0 0h24v24H0V0z\" fill=\"none\"/>\n",
              "    <path d=\"M18.56 5.44l.94 2.06.94-2.06 2.06-.94-2.06-.94-.94-2.06-.94 2.06-2.06.94zm-11 1L8.5 8.5l.94-2.06 2.06-.94-2.06-.94L8.5 2.5l-.94 2.06-2.06.94zm10 10l.94 2.06.94-2.06 2.06-.94-2.06-.94-.94-2.06-.94 2.06-2.06.94z\"/><path d=\"M17.41 7.96l-1.37-1.37c-.4-.4-.92-.59-1.43-.59-.52 0-1.04.2-1.43.59L10.3 9.45l-7.72 7.72c-.78.78-.78 2.05 0 2.83L4 21.41c.39.39.9.59 1.41.59.51 0 1.02-.2 1.41-.59l7.78-7.78 2.81-2.81c.8-.78.8-2.07 0-2.86zM5.41 20L4 18.59l7.72-7.72 1.47 1.35L5.41 20z\"/>\n",
              "  </svg>\n",
              "      </button>\n",
              "      \n",
              "  <style>\n",
              "    .colab-df-container {\n",
              "      display:flex;\n",
              "      flex-wrap:wrap;\n",
              "      gap: 12px;\n",
              "    }\n",
              "\n",
              "    .colab-df-convert {\n",
              "      background-color: #E8F0FE;\n",
              "      border: none;\n",
              "      border-radius: 50%;\n",
              "      cursor: pointer;\n",
              "      display: none;\n",
              "      fill: #1967D2;\n",
              "      height: 32px;\n",
              "      padding: 0 0 0 0;\n",
              "      width: 32px;\n",
              "    }\n",
              "\n",
              "    .colab-df-convert:hover {\n",
              "      background-color: #E2EBFA;\n",
              "      box-shadow: 0px 1px 2px rgba(60, 64, 67, 0.3), 0px 1px 3px 1px rgba(60, 64, 67, 0.15);\n",
              "      fill: #174EA6;\n",
              "    }\n",
              "\n",
              "    [theme=dark] .colab-df-convert {\n",
              "      background-color: #3B4455;\n",
              "      fill: #D2E3FC;\n",
              "    }\n",
              "\n",
              "    [theme=dark] .colab-df-convert:hover {\n",
              "      background-color: #434B5C;\n",
              "      box-shadow: 0px 1px 3px 1px rgba(0, 0, 0, 0.15);\n",
              "      filter: drop-shadow(0px 1px 2px rgba(0, 0, 0, 0.3));\n",
              "      fill: #FFFFFF;\n",
              "    }\n",
              "  </style>\n",
              "\n",
              "      <script>\n",
              "        const buttonEl =\n",
              "          document.querySelector('#df-871bc726-309a-4adc-9aa2-53b1605e1f64 button.colab-df-convert');\n",
              "        buttonEl.style.display =\n",
              "          google.colab.kernel.accessAllowed ? 'block' : 'none';\n",
              "\n",
              "        async function convertToInteractive(key) {\n",
              "          const element = document.querySelector('#df-871bc726-309a-4adc-9aa2-53b1605e1f64');\n",
              "          const dataTable =\n",
              "            await google.colab.kernel.invokeFunction('convertToInteractive',\n",
              "                                                     [key], {});\n",
              "          if (!dataTable) return;\n",
              "\n",
              "          const docLinkHtml = 'Like what you see? Visit the ' +\n",
              "            '<a target=\"_blank\" href=https://colab.research.google.com/notebooks/data_table.ipynb>data table notebook</a>'\n",
              "            + ' to learn more about interactive tables.';\n",
              "          element.innerHTML = '';\n",
              "          dataTable['output_type'] = 'display_data';\n",
              "          await google.colab.output.renderOutput(dataTable, element);\n",
              "          const docLink = document.createElement('div');\n",
              "          docLink.innerHTML = docLinkHtml;\n",
              "          element.appendChild(docLink);\n",
              "        }\n",
              "      </script>\n",
              "    </div>\n",
              "  </div>\n",
              "  "
            ],
            "text/plain": [
              "   A  B  C\n",
              "0  1  0  0\n",
              "1  1  0  0\n",
              "2  0  1  0\n",
              "3  0  1  0\n",
              "4  0  0  1\n",
              "5  0  0  1"
            ]
          },
          "metadata": {},
          "execution_count": 50
        }
      ]
    },
    {
      "cell_type": "code",
      "source": [
        "#"
      ],
      "metadata": {
        "id": "RlFQEBBMMD4_"
      },
      "execution_count": null,
      "outputs": []
    }
  ]
}