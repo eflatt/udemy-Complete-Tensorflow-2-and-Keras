{
  "nbformat": 4,
  "nbformat_minor": 0,
  "metadata": {
    "colab": {
      "name": "intro-to-numpy.ipynb",
      "provenance": [],
      "authorship_tag": "ABX9TyMPITOPFwwvjzCPFSAgyWDL",
      "include_colab_link": true
    },
    "kernelspec": {
      "name": "python3",
      "display_name": "Python 3"
    },
    "language_info": {
      "name": "python"
    }
  },
  "cells": [
    {
      "cell_type": "markdown",
      "metadata": {
        "id": "view-in-github",
        "colab_type": "text"
      },
      "source": [
        "<a href=\"https://colab.research.google.com/github/eflatt/udemy-Complete-Tensorflow-2-and-Keras/blob/main/intro_to_numpy.ipynb\" target=\"_parent\"><img src=\"https://colab.research.google.com/assets/colab-badge.svg\" alt=\"Open In Colab\"/></a>"
      ]
    },
    {
      "cell_type": "markdown",
      "source": [
        "# **Numpy Arrays**\n",
        "\n",
        "\n"
      ],
      "metadata": {
        "id": "s31zfxiTUEoi"
      }
    },
    {
      "cell_type": "markdown",
      "source": [
        "**To Import the numpy library:**\n",
        "\n"
      ],
      "metadata": {
        "id": "QEqZH0ilUjCu"
      }
    },
    {
      "cell_type": "code",
      "source": [
        "import numpy as np"
      ],
      "metadata": {
        "id": "bsxxjmguNmK4"
      },
      "execution_count": null,
      "outputs": []
    },
    {
      "cell_type": "markdown",
      "source": [
        "**Creating Arrays:**"
      ],
      "metadata": {
        "id": "5GmaHm_aWFIj"
      }
    },
    {
      "cell_type": "markdown",
      "source": [
        "Convert a python list into a numpy array:"
      ],
      "metadata": {
        "id": "fP0zldvjW1Vc"
      }
    },
    {
      "cell_type": "code",
      "source": [
        "mylist = [1,2,3]\n",
        "np.array(mylist)"
      ],
      "metadata": {
        "id": "deblqboeW5m7"
      },
      "execution_count": null,
      "outputs": []
    },
    {
      "cell_type": "markdown",
      "source": [
        "Convert a nested python list into a numpy array (*note how numpy\n",
        "will preserve the shape of the python nested list*):"
      ],
      "metadata": {
        "id": "bXg-aVn9XTqg"
      }
    },
    {
      "cell_type": "code",
      "source": [
        "nested_list = [[1,2], [3,4], [5,6]]\n",
        "np.array(nested_list)"
      ],
      "metadata": {
        "id": "SkJN3DdrXZ6m"
      },
      "execution_count": null,
      "outputs": []
    },
    {
      "cell_type": "markdown",
      "source": [
        "**Generating Useful Arrays:**"
      ],
      "metadata": {
        "id": "Ycmr6idpYCBP"
      }
    },
    {
      "cell_type": "markdown",
      "source": [
        "Generate a numpy array from a range (by default of integers), note that it creates a semi-closed interval [a, b) and can optionally include a step size:"
      ],
      "metadata": {
        "id": "as42-Yv4YM5G"
      }
    },
    {
      "cell_type": "code",
      "source": [
        "np.arange(0,10)"
      ],
      "metadata": {
        "id": "mb7oMr7pYSp6"
      },
      "execution_count": null,
      "outputs": []
    },
    {
      "cell_type": "code",
      "source": [
        "np.arange(0,10,2)"
      ],
      "metadata": {
        "id": "9h86wlsjYoK9"
      },
      "execution_count": null,
      "outputs": []
    },
    {
      "cell_type": "code",
      "source": [
        "np.arange(0,11,2)"
      ],
      "metadata": {
        "id": "4VqH1vg6Yt43"
      },
      "execution_count": null,
      "outputs": []
    },
    {
      "cell_type": "markdown",
      "source": [
        "Often in data science you want to create an array of just zeros or an array of just ones, as well as *I* the identity matrix:"
      ],
      "metadata": {
        "id": "IlJ6d5qMY5wY"
      }
    },
    {
      "cell_type": "code",
      "source": [
        "# note that the default is floating point precision\n",
        "np.zeros(3)"
      ],
      "metadata": {
        "id": "vca_KIbyY-ex"
      },
      "execution_count": null,
      "outputs": []
    },
    {
      "cell_type": "code",
      "source": [
        "# if you pass it a shape (and/or type - defaults to floating point), you get that\n",
        "np.zeros((3,3))"
      ],
      "metadata": {
        "id": "OIk5FswVaFFy"
      },
      "execution_count": null,
      "outputs": []
    },
    {
      "cell_type": "code",
      "source": [
        "# 3x3 matrix of just ones (defaults to floating pt type)\n",
        "np.ones((3,3))"
      ],
      "metadata": {
        "id": "XbnYJMsKauoU"
      },
      "execution_count": null,
      "outputs": []
    },
    {
      "cell_type": "code",
      "source": [
        "# note that I is always square, so you only need specify one dimension\n",
        "# also note that eye() defaults to floating pt rep\n",
        "np.eye(3, dtype=int)"
      ],
      "metadata": {
        "id": "gfl9KGsddVo5"
      },
      "execution_count": null,
      "outputs": []
    },
    {
      "cell_type": "markdown",
      "source": [
        "Usefully you can create evenly spaced points over a specified interval:"
      ],
      "metadata": {
        "id": "mGMso6BubEHk"
      }
    },
    {
      "cell_type": "code",
      "source": [
        "# linspace(a,b,c) : Create c evenly spaced points across the *closed* interval [a,b]\n",
        "np.linspace(0,10,3)"
      ],
      "metadata": {
        "id": "mgUKpCORbKxB"
      },
      "execution_count": null,
      "outputs": []
    },
    {
      "cell_type": "code",
      "source": [
        "# linspace (a,b,c) where c = 2*(b-a) + 1 so even spacing is 1/2\n",
        "# note that this is a *closed* and not half-open interval\n",
        "np.linspace(0,50,101)"
      ],
      "metadata": {
        "id": "pdthmpEHcDMG"
      },
      "execution_count": null,
      "outputs": []
    },
    {
      "cell_type": "markdown",
      "source": [
        "You can create Random Arrays and Matrices:"
      ],
      "metadata": {
        "id": "AlasxVZKeKa5"
      }
    },
    {
      "cell_type": "code",
      "source": [
        "# For an array with 2 elements with values from the uniform distribution between [0,1]:\n",
        "np.random.rand(2)"
      ],
      "metadata": {
        "id": "9-c7Up1LNoM6"
      },
      "execution_count": null,
      "outputs": []
    },
    {
      "cell_type": "code",
      "source": [
        "# For a matrix with 3 rows and 4 columns with values from the uniform distribution between [0,1]:\n",
        "np.random.rand(3,4)"
      ],
      "metadata": {
        "id": "XjBTW3jObJkZ"
      },
      "execution_count": null,
      "outputs": []
    },
    {
      "cell_type": "code",
      "source": [
        "# For a matrix with 3 rows and 4 columns with values from the gaussian/normal distribution with\n",
        "# mean at 0 and variance of 1\n",
        "np.random.randn(3,4)"
      ],
      "metadata": {
        "id": "JZdZPU94O-9D"
      },
      "execution_count": null,
      "outputs": []
    },
    {
      "cell_type": "code",
      "source": [
        "# Pick a single random integeger between the semi closed interval of [a, b)\n",
        "np.random.randint(1,100)"
      ],
      "metadata": {
        "id": "W7r3bSyYPMtq"
      },
      "execution_count": null,
      "outputs": []
    },
    {
      "cell_type": "code",
      "source": [
        "# Return an array of c random integers between the semi closed interval of [a, b)\n",
        "np.random.randint(1,100,10)"
      ],
      "metadata": {
        "id": "jMCDGmixgBcq"
      },
      "execution_count": null,
      "outputs": []
    },
    {
      "cell_type": "code",
      "source": [
        "# You can also create a random matrix with integer values on the semi closed interval of [a,b)\n",
        "np.random.randint(1,101,(3,3))"
      ],
      "metadata": {
        "id": "NmhDKn2dgSlS"
      },
      "execution_count": null,
      "outputs": []
    },
    {
      "cell_type": "code",
      "source": [
        "# If you want pseudo-randomness to make for reproduceable 'random' results, set the seed:\n",
        "np.random.seed(42)\n",
        "np.random.rand(4)"
      ],
      "metadata": {
        "id": "2SIA2-efiEQo"
      },
      "execution_count": null,
      "outputs": []
    },
    {
      "cell_type": "code",
      "source": [
        "# Note how the same seed gets you the same array of 4 random values:\n",
        "np.random.seed(42)\n",
        "np.random.rand(4)"
      ],
      "metadata": {
        "id": "6AveTaSRibna"
      },
      "execution_count": null,
      "outputs": []
    },
    {
      "cell_type": "markdown",
      "source": [
        "**How to Reshape or figure out shape of a numpy matrix/array**"
      ],
      "metadata": {
        "id": "ugMW06LHlqAN"
      }
    },
    {
      "cell_type": "code",
      "source": [
        "# Create an array expressing an integer range from [0,25)\n",
        "arr = np.arange(25)"
      ],
      "metadata": {
        "id": "GaN3PS-zQfEw"
      },
      "execution_count": null,
      "outputs": []
    },
    {
      "cell_type": "code",
      "source": [
        "# Create an array of 10 integer elements whose values were chosen\n",
        "# from the random distribution from the interval [0,50) \n",
        "ranarr = np.random.randint(0,50,10)"
      ],
      "metadata": {
        "id": "5xohoO96Qj-U"
      },
      "execution_count": null,
      "outputs": []
    },
    {
      "cell_type": "code",
      "source": [
        "# You can query the shape of the array (it's a property of the array\n",
        "# arr.shape -> (25,) and ranarr.shape -> (50,)"
      ],
      "metadata": {
        "id": "42Rrme5Lm8QY"
      },
      "execution_count": null,
      "outputs": []
    },
    {
      "cell_type": "code",
      "source": [
        "# You can reshape an existing array into a different matrix shape\n",
        "# (so long as the dimensions come to the same)\n",
        "arr.reshape((5,5))"
      ],
      "metadata": {
        "id": "hWHUW_TOQotW"
      },
      "execution_count": null,
      "outputs": []
    },
    {
      "cell_type": "code",
      "source": [
        "ranarr.reshape((5,2))"
      ],
      "metadata": {
        "id": "HLV-1rqmQylb"
      },
      "execution_count": null,
      "outputs": []
    },
    {
      "cell_type": "code",
      "source": [
        "# note however that reshape does NOT mutate the array:\n",
        "# arr will yield the original 1x25 vector\n",
        "arr"
      ],
      "metadata": {
        "id": "kMnWumfCn7ID"
      },
      "execution_count": null,
      "outputs": []
    },
    {
      "cell_type": "markdown",
      "source": [
        "**How to find the max/min value (and where it lives) in an array:**"
      ],
      "metadata": {
        "id": "PVdmpyaHurfu"
      }
    },
    {
      "cell_type": "code",
      "source": [
        "ranarr"
      ],
      "metadata": {
        "id": "wSdqlwnxu7aI"
      },
      "execution_count": null,
      "outputs": []
    },
    {
      "cell_type": "code",
      "source": [
        "# what is the max value in ranarr?\n",
        "ranarr.max()"
      ],
      "metadata": {
        "id": "czrSdkpyVzcD"
      },
      "execution_count": null,
      "outputs": []
    },
    {
      "cell_type": "code",
      "source": [
        "# where is the max value in ranarr?\n",
        "ranarr.argmax()"
      ],
      "metadata": {
        "id": "1YQSAfWiuxSf"
      },
      "execution_count": null,
      "outputs": []
    },
    {
      "cell_type": "code",
      "source": [
        "# what is the min value in ranarr?\n",
        "ranarr.min()"
      ],
      "metadata": {
        "id": "JjtgQ_z3u5h4"
      },
      "execution_count": null,
      "outputs": []
    },
    {
      "cell_type": "code",
      "source": [
        "# where is the min value in ranarr?\n",
        "ranarr.argmin()"
      ],
      "metadata": {
        "id": "JcUr5f3NvScY"
      },
      "execution_count": null,
      "outputs": []
    },
    {
      "cell_type": "code",
      "source": [
        "foo.argmin()"
      ],
      "metadata": {
        "id": "2MFa71VQvjiR"
      },
      "execution_count": null,
      "outputs": []
    },
    {
      "cell_type": "markdown",
      "source": [
        "**How to find out what *type* of values in an array/matrix are:**"
      ],
      "metadata": {
        "id": "NeYSg8YMvz6c"
      }
    },
    {
      "cell_type": "code",
      "source": [
        "ranarr.dtype"
      ],
      "metadata": {
        "id": "cSW8Fzbev5fA"
      },
      "execution_count": null,
      "outputs": []
    },
    {
      "cell_type": "markdown",
      "source": [
        "*italicized text*# **Numpy Index Selection**\n",
        "\n",
        "\n"
      ],
      "metadata": {
        "id": "huKHDgy9xTgD"
      }
    },
    {
      "cell_type": "code",
      "source": [
        "#Create some arrays to demonstrate:\n",
        "arr = np.arange(0,11)\n",
        "arr"
      ],
      "metadata": {
        "id": "ikyzuhYAziAl"
      },
      "execution_count": null,
      "outputs": []
    },
    {
      "cell_type": "markdown",
      "source": [
        "**Extract elements and ranges from an array:**"
      ],
      "metadata": {
        "id": "lvrVm_gazuDa"
      }
    },
    {
      "cell_type": "code",
      "source": [
        "# Extract the ith element from the list\n",
        "arr[8]"
      ],
      "metadata": {
        "id": "joP9sD9PznRW"
      },
      "execution_count": null,
      "outputs": []
    },
    {
      "cell_type": "code",
      "source": [
        "# Extract the ith-through *jth-1* elements from the list\n",
        "arr[1:5]"
      ],
      "metadata": {
        "id": "dcma2wCRz4i-"
      },
      "execution_count": null,
      "outputs": []
    },
    {
      "cell_type": "code",
      "source": [
        "# Extracting from the beginning through ith element:\n",
        "arr[:5]"
      ],
      "metadata": {
        "id": "k7QxAhGd0FVm"
      },
      "execution_count": null,
      "outputs": []
    },
    {
      "cell_type": "code",
      "source": [
        "# Extracting from i through end of the array:\n",
        "arr[5:]"
      ],
      "metadata": {
        "id": "L0LNeBB10VVc"
      },
      "execution_count": null,
      "outputs": []
    },
    {
      "cell_type": "markdown",
      "source": [
        "**Broadcasting: means to assign a single value into a range of the original array**"
      ],
      "metadata": {
        "id": "8iq9H28i0c13"
      }
    },
    {
      "cell_type": "code",
      "source": [
        "# Broadcast the value 100 across the first 5 elements of an array\n",
        "# NOTE THAT THIS IS MUTABLE!!!!\n",
        "arr[0:5] = 100\n",
        "arr"
      ],
      "metadata": {
        "id": "7gkK3BLT0ZnR"
      },
      "execution_count": null,
      "outputs": []
    },
    {
      "cell_type": "code",
      "source": [
        "# Reset arr to be [0,10]\n",
        "arr=np.arange(0,11)\n"
      ],
      "metadata": {
        "id": "QXOcZbSA0pev"
      },
      "execution_count": null,
      "outputs": []
    },
    {
      "cell_type": "markdown",
      "source": [
        "**Note that by default, slices mutate (they are pointers) the array into which they point**"
      ],
      "metadata": {
        "id": "HWVHkaEw16ZH"
      }
    },
    {
      "cell_type": "code",
      "source": [
        "# Get a MUTABLE ptr into arr\n",
        "slice_of_arr = arr[0:5]\n",
        "\n",
        "# Broadcast 99 to the entire slice_of_arr, note that this CHANGES arr\n",
        "# Note foo[:] implies the entirety of the container\n",
        "slice_of_arr[:] = 99\n",
        "\n",
        "# arr will now have the 99 broadcast into it:\n",
        "arr"
      ],
      "metadata": {
        "id": "DysnASQW08RV"
      },
      "execution_count": null,
      "outputs": []
    },
    {
      "cell_type": "markdown",
      "source": [
        "**To NOT mutate the array into which a slice ptr points, you need to explicitly make a copy like this (Note that assignment or slicing by default gives you a mutable pointer into the original array):**"
      ],
      "metadata": {
        "id": "sMDNf0mG2DFR"
      }
    },
    {
      "cell_type": "code",
      "source": [
        "# Reset arr to be [0,10]\n",
        "arr=np.arange(0,11)"
      ],
      "metadata": {
        "id": "vHI3nbb21k-U"
      },
      "execution_count": null,
      "outputs": []
    },
    {
      "cell_type": "code",
      "source": [
        "# Make a copy of the original arr array\n",
        "arr_copy = arr.copy()\n",
        "\n",
        "# Slice into the copy:\n",
        "arr_copy_slice = arr_copy[0:5]\n",
        "\n",
        "# Mutate the copy:\n",
        "arr_copy_slice[:] = 99\n",
        "arr_copy\n"
      ],
      "metadata": {
        "id": "RYjM6jMQ10ys"
      },
      "execution_count": null,
      "outputs": []
    },
    {
      "cell_type": "code",
      "source": [
        "# But the original array remains intact:\n",
        "arr"
      ],
      "metadata": {
        "id": "tC80M47P2ggp"
      },
      "execution_count": null,
      "outputs": []
    },
    {
      "cell_type": "markdown",
      "source": [
        "**Indexing into a 2d array/matrix**"
      ],
      "metadata": {
        "id": "NnGCC3bk3hvY"
      }
    },
    {
      "cell_type": "code",
      "source": [
        "# Create a 2d array by casting a python list of lists into a numpy array:\n",
        "arr_2d = np.array([[5,10,15],[20,25,30],[35,40,45]])"
      ],
      "metadata": {
        "id": "aY8TPjPm2wR0"
      },
      "execution_count": null,
      "outputs": []
    },
    {
      "cell_type": "code",
      "source": [
        "# How many Rows and Columns in this 2d array?\n",
        "arr_2d.shape"
      ],
      "metadata": {
        "id": "qHztq6hJ4Dr4"
      },
      "execution_count": null,
      "outputs": []
    },
    {
      "cell_type": "code",
      "source": [
        "# Grab a single row from arr_2d:\n",
        "arr_2d[0]"
      ],
      "metadata": {
        "id": "-p_NEBf74T96"
      },
      "execution_count": null,
      "outputs": []
    },
    {
      "cell_type": "code",
      "source": [
        "# How to index to the (1,1)th element of the 2 d array\n",
        "# There are two ways:  arr_2d[1,1] is preferred, but arr_2d[1][1] works as well\n",
        "arr_2d[1,1]"
      ],
      "metadata": {
        "id": "vqiG8ckP4dD9"
      },
      "execution_count": null,
      "outputs": []
    },
    {
      "cell_type": "code",
      "source": [
        "# You can also use python-style slices as indices to grab subsections\n",
        "# of the Matrix\n",
        "# If we wanted to access the submatrix [10, 15] and [25,30], which is\n",
        "# rows 0 and 1, columns 1 and 2\n",
        "# we would say:\n",
        "arr_2d[:2,1:] "
      ],
      "metadata": {
        "id": "rqV4b2zd45zb"
      },
      "execution_count": null,
      "outputs": []
    },
    {
      "cell_type": "markdown",
      "source": [
        "**Conditional Selection** (this is quite common)"
      ],
      "metadata": {
        "id": "TAkz-EF87NOi"
      }
    },
    {
      "cell_type": "markdown",
      "source": [
        "Conditional Selection is how we extract values that meet a particular condition in an array, here's the step-by-step:"
      ],
      "metadata": {
        "id": "9_ARBvvwiFW9"
      }
    },
    {
      "cell_type": "code",
      "source": [
        "# Set up array with elements 1..10\n",
        "arr = np.arange(1,11)\n",
        "arr"
      ],
      "metadata": {
        "id": "rrCJAd8W5tc8"
      },
      "execution_count": null,
      "outputs": []
    },
    {
      "cell_type": "code",
      "source": [
        "# Create a filter (which ends up being an array of booleans, True where value\n",
        "# of arr is greater than 4)\n",
        "bool_arr = arr > 4\n",
        "print(\"bool_arr = \" + str(bool_arr) + '\\n')\n",
        "\n",
        "# Then you can filter out the array by broadcasting the conditional across\n",
        "# the elements of the array:\n",
        "print(\"Filtered array where arr[i] > 4: \" + str(arr[bool_arr])+\"\\n\")"
      ],
      "metadata": {
        "id": "RxSu5Xvt7e4W"
      },
      "execution_count": null,
      "outputs": []
    },
    {
      "cell_type": "markdown",
      "source": [
        "Or the more conventional way to conditionally select in one line:"
      ],
      "metadata": {
        "id": "92n5tep0jogq"
      }
    },
    {
      "cell_type": "code",
      "source": [
        "# Filter out elements of arr greater than 4 in one line: \n",
        "arr[arr>4]"
      ],
      "metadata": {
        "id": "b08rARil7k04"
      },
      "execution_count": null,
      "outputs": []
    },
    {
      "cell_type": "markdown",
      "source": [
        "# **Numpy Index Selection**\n",
        "\n",
        "\n"
      ],
      "metadata": {
        "id": "6O_I2aosl19W"
      }
    },
    {
      "cell_type": "code",
      "source": [
        "#Create some arrays to demonstrate:\n",
        "arr = np.arange(0,11)\n",
        "arr"
      ],
      "metadata": {
        "id": "ZeiL3skTl19W"
      },
      "execution_count": null,
      "outputs": []
    },
    {
      "cell_type": "markdown",
      "source": [
        "**Extract elements and ranges from an array:**"
      ],
      "metadata": {
        "id": "nddXLkR_l19W"
      }
    },
    {
      "cell_type": "code",
      "source": [
        "# Extract the ith element from the list\n",
        "arr[8]"
      ],
      "metadata": {
        "id": "1RqFUJiml19W"
      },
      "execution_count": null,
      "outputs": []
    },
    {
      "cell_type": "code",
      "source": [
        "# Extract the ith-through *jth-1* elements from the list\n",
        "arr[1:5]"
      ],
      "metadata": {
        "id": "mUTUz74Ul19W"
      },
      "execution_count": null,
      "outputs": []
    },
    {
      "cell_type": "code",
      "source": [
        "# Extracting from the beginning through ith element:\n",
        "arr[:5]"
      ],
      "metadata": {
        "id": "homSOAhll19W"
      },
      "execution_count": null,
      "outputs": []
    },
    {
      "cell_type": "code",
      "source": [
        "# Extracting from i through end of the array:\n",
        "arr[5:]"
      ],
      "metadata": {
        "id": "sor20izil19W"
      },
      "execution_count": null,
      "outputs": []
    },
    {
      "cell_type": "markdown",
      "source": [
        "**Broadcasting: means to assign a single value into a range of the original array**"
      ],
      "metadata": {
        "id": "wVyFqnI2l19W"
      }
    },
    {
      "cell_type": "code",
      "source": [
        "# Broadcast the value 100 across the first 5 elements of an array\n",
        "# NOTE THAT THIS IS MUTABLE!!!!\n",
        "arr[0:5] = 100\n",
        "arr"
      ],
      "metadata": {
        "id": "gqsZPluDl19X"
      },
      "execution_count": null,
      "outputs": []
    },
    {
      "cell_type": "code",
      "source": [
        "# Reset arr to be [0,10]\n",
        "arr=np.arange(0,11)\n"
      ],
      "metadata": {
        "id": "hRjYMofJl19X"
      },
      "execution_count": null,
      "outputs": []
    },
    {
      "cell_type": "markdown",
      "source": [
        "**Note that by default, slices mutate (they are pointers) the array into which they point**"
      ],
      "metadata": {
        "id": "1eIhGstRl19X"
      }
    },
    {
      "cell_type": "code",
      "source": [
        "# Get a MUTABLE ptr into arr\n",
        "slice_of_arr = arr[0:5]\n",
        "\n",
        "# Broadcast 99 to the entire slice_of_arr, note that this CHANGES arr\n",
        "# Note foo[:] implies the entirety of the container\n",
        "slice_of_arr[:] = 99\n",
        "\n",
        "# arr will now have the 99 broadcast into it:\n",
        "arr"
      ],
      "metadata": {
        "id": "QyO2qZ3kl19X"
      },
      "execution_count": null,
      "outputs": []
    },
    {
      "cell_type": "markdown",
      "source": [
        "**To NOT mutate the array into which a slice ptr points, you need to explicitly make a copy like this (Note that assignment or slicing by default gives you a mutable pointer into the original array):**"
      ],
      "metadata": {
        "id": "15TYI1hWl19X"
      }
    },
    {
      "cell_type": "code",
      "source": [
        "# Reset arr to be [0,10]\n",
        "arr=np.arange(0,11)"
      ],
      "metadata": {
        "id": "QE31QOxSl19X"
      },
      "execution_count": null,
      "outputs": []
    },
    {
      "cell_type": "code",
      "source": [
        "# Make a copy of the original arr array\n",
        "arr_copy = arr.copy()\n",
        "\n",
        "# Slice into the copy:\n",
        "arr_copy_slice = arr_copy[0:5]\n",
        "\n",
        "# Mutate the copy:\n",
        "arr_copy_slice[:] = 99\n",
        "arr_copy\n"
      ],
      "metadata": {
        "id": "tcMPzApZl19X"
      },
      "execution_count": null,
      "outputs": []
    },
    {
      "cell_type": "code",
      "source": [
        "# But the original array remains intact:\n",
        "arr"
      ],
      "metadata": {
        "id": "0avdcHzml19X"
      },
      "execution_count": null,
      "outputs": []
    },
    {
      "cell_type": "markdown",
      "source": [
        "**Indexing into a 2d array/matrix**"
      ],
      "metadata": {
        "id": "WvHovahpl19X"
      }
    },
    {
      "cell_type": "code",
      "source": [
        "# Create a 2d array by casting a python list of lists into a numpy array:\n",
        "arr_2d = np.array([[5,10,15],[20,25,30],[35,40,45]])"
      ],
      "metadata": {
        "id": "jcjwv9RCl19X"
      },
      "execution_count": null,
      "outputs": []
    },
    {
      "cell_type": "code",
      "source": [
        "# How many Rows and Columns in this 2d array?\n",
        "arr_2d.shape"
      ],
      "metadata": {
        "id": "cFU7OC4Ml19X"
      },
      "execution_count": null,
      "outputs": []
    },
    {
      "cell_type": "code",
      "source": [
        "# Grab a single row from arr_2d:\n",
        "arr_2d[0]"
      ],
      "metadata": {
        "id": "3moKd5Dxl19Y"
      },
      "execution_count": null,
      "outputs": []
    },
    {
      "cell_type": "code",
      "source": [
        "# How to index to the (1,1)th element of the 2 d array\n",
        "# There are two ways:  arr_2d[1,1] is preferred, but arr_2d[1][1] works as well\n",
        "arr_2d[1,1]"
      ],
      "metadata": {
        "id": "72tRv6y7l19Y"
      },
      "execution_count": null,
      "outputs": []
    },
    {
      "cell_type": "code",
      "source": [
        "# You can also use python-style slices as indices to grab subsections\n",
        "# of the Matrix\n",
        "# If we wanted to access the submatrix [10, 15] and [25,30], which is\n",
        "# rows 0 and 1, columns 1 and 2\n",
        "# we would say:\n",
        "arr_2d[:2,1:] "
      ],
      "metadata": {
        "id": "XFKMI-K9l19Y"
      },
      "execution_count": null,
      "outputs": []
    },
    {
      "cell_type": "markdown",
      "source": [
        "**Conditional Selection** (this is quite common)"
      ],
      "metadata": {
        "id": "BCHkPcGtl19Y"
      }
    },
    {
      "cell_type": "markdown",
      "source": [
        "Conditional Selection is how we extract values that meet a particular condition in an array, here's the step-by-step:"
      ],
      "metadata": {
        "id": "epKhq0DYl19Y"
      }
    },
    {
      "cell_type": "code",
      "source": [
        "# Set up array with elements 1..10\n",
        "arr = np.arange(1,11)\n",
        "arr"
      ],
      "metadata": {
        "id": "DYDfe2D9l19Y"
      },
      "execution_count": null,
      "outputs": []
    },
    {
      "cell_type": "code",
      "source": [
        "# Create a filter (which ends up being an array of booleans, True where value\n",
        "# of arr is greater than 4)\n",
        "bool_arr = arr > 4\n",
        "print(\"bool_arr = \" + str(bool_arr) + '\\n')\n",
        "\n",
        "# Then you can filter out the array by broadcasting the conditional across\n",
        "# the elements of the array:\n",
        "print(\"Filtered array where arr[i] > 4: \" + str(arr[bool_arr])+\"\\n\")"
      ],
      "metadata": {
        "id": "6vfGiSQnl19Y"
      },
      "execution_count": null,
      "outputs": []
    },
    {
      "cell_type": "markdown",
      "source": [
        "Or the more conventional way to conditionally select in one line:"
      ],
      "metadata": {
        "id": "9ucgP-vXl19Y"
      }
    },
    {
      "cell_type": "code",
      "source": [
        "# Filter out elements of arr greater than 4 in one line: \n",
        "arr[arr>4]"
      ],
      "metadata": {
        "id": "ab-lnB5Jl19Y"
      },
      "execution_count": null,
      "outputs": []
    },
    {
      "cell_type": "markdown",
      "source": [
        "# **Numpy Operations**\n",
        "\n",
        "\n"
      ],
      "metadata": {
        "id": "8eHwGMJ1l30r"
      }
    },
    {
      "cell_type": "code",
      "source": [
        "import numpy as np\n",
        "\n",
        "# Initialize:\n",
        "arr = np.arange(0, 10)\n",
        "print(arr)"
      ],
      "metadata": {
        "id": "qmuT7r9XmS5i"
      },
      "execution_count": null,
      "outputs": []
    },
    {
      "cell_type": "markdown",
      "source": [
        "**Some Elementary Operations You can do on an array:**\n",
        "1.  Add/subtract, etc.. a Scalar to an array\n",
        "2.  Add an array to an array (NOTE:  they need to be the same shape)\n",
        "3.  Reciprocate every element in an array\n"
      ],
      "metadata": {
        "id": "V1h3dJV8mmd0"
      }
    },
    {
      "cell_type": "code",
      "source": [
        "# Add a scalar to an array, adds that scalar to every element of the array:\n",
        "print(\"arr: \" + str(arr) + \"\\n\")\n",
        "print(\"arr + 5: \" + str(arr+5) + \"\\n\")\n",
        "print(\"arr + arr: \" + str(arr+arr) + \"\\n\")\n",
        "\n",
        "# It's also legal to have the scalar first (note that I selected out\n",
        "# any zeros to avoid the warning til the next bit of code):\n",
        "print (\"1 / arr: \" + str(1/arr[arr>0]) + \"\\n\")\n",
        "\n",
        "# Interesting note - you get nan when you div by 0, and only a warning\n",
        "# It doesn't altogether puke\n",
        "print(\"arr / arr: \" + str(arr/arr) + \"\\n\")"
      ],
      "metadata": {
        "id": "w3N1En7Nmj-g"
      },
      "execution_count": null,
      "outputs": []
    },
    {
      "cell_type": "markdown",
      "source": [
        "**You can apply more advanced functions on an array**\n",
        "1.  Square root of every element in an array\n",
        "2.  Sin of every element in an array\n",
        "3.  Base 10 log of every element in an array (mind you'll get a warning for log of 0)"
      ],
      "metadata": {
        "id": "wkpSfgTcwEoa"
      }
    },
    {
      "cell_type": "code",
      "source": [
        "# Apply square root to every element in an array:\n",
        "print(\"arr: \" + str(arr) + \"\\n\")\n",
        "print(\"np.sqrt(arr): \" + str(np.sqrt(arr)) + '\\n')\n",
        "print(\"np.sin(arr): \" + str(np.sin(arr)) + '\\n')\n",
        "print(\"np.log(arr): \" + str(np.log(arr)) + '\\n')\n"
      ],
      "metadata": {
        "id": "g8w-qbAgv9ZW"
      },
      "execution_count": null,
      "outputs": []
    },
    {
      "cell_type": "markdown",
      "source": [
        "**Summary statistics on an array**\n",
        "1.  Mean\n",
        "2.  Sum\n",
        "3.  Min/max"
      ],
      "metadata": {
        "id": "3zbQdGVCx-QS"
      }
    },
    {
      "cell_type": "code",
      "source": [
        "# Sum, mean, max, min:\n",
        "print(\"arr: \" + str(arr) + \"\\n\")\n",
        "print(\"arr.sum(): \" + str(arr.sum()) + '\\n')\n",
        "print(\"arr.mean(): \" + str(arr.mean()) + '\\n')\n",
        "print(\"arr.max()): \" + str(arr.max()) + '\\n')\n",
        "\n",
        "# Variance, stddev:\n",
        "print(\"arr.var(): \" + str(arr.var()) + '\\n')\n",
        "print(\"arr.std(): \" + str(arr.std()) + '\\n')"
      ],
      "metadata": {
        "id": "_Fm1yaJYwiba"
      },
      "execution_count": null,
      "outputs": []
    },
    {
      "cell_type": "markdown",
      "source": [
        "**Summary stats on multi-dimensional structures**"
      ],
      "metadata": {
        "id": "cl6T4_fYznNy"
      }
    },
    {
      "cell_type": "code",
      "source": [
        "# Initialize the structure you'll play with:\n",
        "# A 2 d array with integers from 0-24 as values\n",
        "array2d = np.arange(0,25).reshape((5,5))"
      ],
      "metadata": {
        "id": "XFuttJqRyfiR"
      },
      "execution_count": null,
      "outputs": []
    },
    {
      "cell_type": "markdown",
      "source": [
        "**Perform an operation *across* the rows**\n",
        "Note that this may defy your intuition - the important word here\n",
        "is *across*:\n",
        "\n",
        "so a 3x3 matrix that looks like this:\n",
        "1 2 3\n",
        "4 5 6\n",
        "7 8 9\n",
        "\n",
        "Then summing across axis=0 (the rows), *goes down, not across*, thus giving you:  [12 15 18]"
      ],
      "metadata": {
        "id": "uLp5nXLV2dpZ"
      }
    },
    {
      "cell_type": "code",
      "source": [
        "print(\"array2d: \\n\" + str(array2d) + \"\\n\")\n",
        "\n",
        "# So if you want to sum across the rows (downward), supply the axis 0\n",
        "# in the argument to the sum:\n",
        "print (\"array2d.sum(0): \\n\" + str(array2d.sum(0)) + \"\\n\")\n",
        "\n",
        "# So if you want to sum across the columns (leftright), supply the axis 1\n",
        "# in the argument to the sum:\n",
        "print (\"array2d.sum(1): \\n\" + str(array2d.sum(1)) + \"\\n\")"
      ],
      "metadata": {
        "colab": {
          "base_uri": "https://localhost:8080/"
        },
        "id": "-PSlwxWV0CeB",
        "outputId": "1f391f2c-5572-46b5-d0b1-1efb832736d5"
      },
      "execution_count": 51,
      "outputs": [
        {
          "output_type": "stream",
          "name": "stdout",
          "text": [
            "array2d: \n",
            "[[ 0  1  2  3  4]\n",
            " [ 5  6  7  8  9]\n",
            " [10 11 12 13 14]\n",
            " [15 16 17 18 19]\n",
            " [20 21 22 23 24]]\n",
            "\n",
            "array2d.sum(0): \n",
            "[50 55 60 65 70]\n",
            "\n",
            "array2d.sum(1): \n",
            "[ 10  35  60  85 110]\n",
            "\n"
          ]
        }
      ]
    },
    {
      "cell_type": "code",
      "source": [
        ""
      ],
      "metadata": {
        "id": "l-P2Ed1j3cjj"
      },
      "execution_count": null,
      "outputs": []
    }
  ]
}